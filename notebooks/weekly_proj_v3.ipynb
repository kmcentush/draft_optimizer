{
 "cells": [
  {
   "cell_type": "code",
   "execution_count": null,
   "id": "1d4f2663-b9d9-47e2-9654-6008c75917ad",
   "metadata": {},
   "outputs": [],
   "source": [
    "import os\n",
    "\n",
    "import aesara.tensor as at\n",
    "import arviz as az\n",
    "import numpy as np\n",
    "import pandas as pd\n",
    "import pymc as pm\n",
    "from sklearn.preprocessing import LabelEncoder\n",
    "\n",
    "from draft_optimizer.src.utils import DATA_DIR"
   ]
  },
  {
   "cell_type": "code",
   "execution_count": null,
   "id": "ed10b396-4309-47ef-b4c6-5d2301792e81",
   "metadata": {},
   "outputs": [],
   "source": [
    "def plot_player(weekly_points, players_map, name):\n",
    "    player_weekly_points = weekly_points.xs(players_map[name], level=1)\n",
    "    display(player_weekly_points)\n",
    "    fig = player_weekly_points.cumsum().plot()\n",
    "    fig.set_title(name)\n",
    "\n",
    "\n",
    "def trace_helper(trace, var_names):\n",
    "    display(az.summary(trace, var_names=var_names, kind=\"diagnostics\"))\n",
    "    az.plot_trace(trace, var_names=var_names, compact=False)"
   ]
  },
  {
   "cell_type": "code",
   "execution_count": null,
   "id": "9535f2a6-83ef-4165-ba8d-f8c5fb3de66d",
   "metadata": {},
   "outputs": [],
   "source": [
    "# Load data\n",
    "league_id = 88497130\n",
    "year = 2022\n",
    "league_dir = os.path.join(DATA_DIR, f\"espn_{league_id}_{year}\")\n",
    "teams_raw = pd.read_csv(os.path.join(league_dir, \"pro_teams.csv\"))\n",
    "schedule_raw = pd.read_csv(os.path.join(league_dir, \"pro_schedule.csv\"))\n",
    "players_raw = pd.read_csv(os.path.join(league_dir, \"pro_players.csv\"))"
   ]
  },
  {
   "cell_type": "code",
   "execution_count": null,
   "id": "9f31cdad-2f37-4259-95bf-856459c8613a",
   "metadata": {},
   "outputs": [],
   "source": [
    "# Get maps\n",
    "teams_map = teams_raw.set_index(\"abbrev\")[\"id\"]\n",
    "players_map = players_raw.set_index(\"name\")[\"id\"]\n",
    "\n",
    "# Prepare data\n",
    "players_df = players_raw.copy()\n",
    "players_df[\"team_id\"] = players_df[\"pro_team\"].map(teams_map)\n",
    "players_df = players_df[[\"id\", \"position\", \"proj_points\", \"team_id\"]].rename({\"id\": \"player_id\"}, axis=1)\n",
    "home_data = schedule_raw[[\"home_id\", \"away_id\", \"week\"]].merge(players_df, left_on=\"home_id\", right_on=\"team_id\")\n",
    "home_data[\"home\"] = True\n",
    "home_data[\"opponent_id\"] = home_data[\"away_id\"]\n",
    "away_data = schedule_raw[[\"home_id\", \"away_id\", \"week\"]].merge(players_df, left_on=\"away_id\", right_on=\"team_id\")\n",
    "away_data[\"home\"] = False\n",
    "away_data[\"opponent_id\"] = away_data[\"home_id\"]\n",
    "all_data = pd.concat([home_data, away_data], axis=0).drop([\"team_id\", \"home_id\", \"away_id\"], axis=1).dropna(how=\"any\")\n",
    "all_data = all_data.sort_values([\"week\", \"player_id\"])\n",
    "\n",
    "print(all_data.shape)\n",
    "all_data.head()"
   ]
  },
  {
   "cell_type": "markdown",
   "id": "674e1257-c9b1-4f9a-9654-dc95d977a3b0",
   "metadata": {},
   "source": [
    "# All Weeks, One Position"
   ]
  },
  {
   "cell_type": "code",
   "execution_count": null,
   "id": "10bf4ced-7f01-464a-aa5e-a9634b6a557c",
   "metadata": {},
   "outputs": [],
   "source": [
    "# Subset data\n",
    "pos = \"QB\"\n",
    "data = all_data.loc[all_data[\"position\"] == pos]\n",
    "data = data.loc[data[\"proj_points\"] > 0]\n",
    "\n",
    "# Make wide dataframe\n",
    "wide_data = data.set_index([\"week\", \"player_id\"]).unstack(level=1)\n",
    "home_vals = wide_data[\"home\"].fillna(False).astype(float).values\n",
    "bye_mask = wide_data[\"opponent_id\"].isnull().values\n",
    "\n",
    "# Build coords\n",
    "teams = sorted(np.unique(wide_data[\"opponent_id\"].values))  # includes NaN for bye weeks\n",
    "players = sorted(data[\"player_id\"].unique())\n",
    "coords = {\"teams\": teams, \"players\": players}\n",
    "\n",
    "# Encode opponents\n",
    "teams_encoder = LabelEncoder().fit(teams)\n",
    "opp_idx = wide_data[\"opponent_id\"].apply(teams_encoder.transform).values\n",
    "\n",
    "# Get season-long projected points\n",
    "proj_points = data.groupby(\"player_id\")[\"proj_points\"].first()\n",
    "\n",
    "print(wide_data.shape)\n",
    "wide_data.head()"
   ]
  },
  {
   "cell_type": "code",
   "execution_count": null,
   "id": "aafcd9f3-c9f4-44ad-8fc6-87019b829bd6",
   "metadata": {},
   "outputs": [],
   "source": [
    "with pm.Model(coords=coords) as model:\n",
    "    # Opponent-specific parameters (non-centered format for better sampling)\n",
    "    opp_std = pm.HalfNormal(\"opp_std\", sigma=7)\n",
    "    opp_mu = pm.Normal(\"opp_mu\", mu=0, sigma=7)\n",
    "    opp_offset = pm.Normal(\"opp_offset\", mu=0, sigma=7, dims=\"teams\")\n",
    "    opp = pm.Deterministic(\"opp\", opp_mu + opp_std * opp_offset, dims=\"teams\")\n",
    "\n",
    "    # Broadcast `opp` to be weeks x players\n",
    "    wide_opp = opp[opp_idx]\n",
    "\n",
    "    # Player-specific parameters (non-centered format for better sampling)\n",
    "    player_std = pm.HalfNormal(\"player_std\", sigma=7)\n",
    "    player_mu = pm.Normal(\"player_mu\", mu=0, sigma=7)\n",
    "    player_offset = pm.Normal(\"player_offset\", mu=0, sigma=7, dims=[\"players\"])\n",
    "    player = pm.Deterministic(\"player\", player_mu + player_std * player_offset, dims=[\"players\"])\n",
    "\n",
    "    # Home advantage\n",
    "    beta_home = pm.Normal(\"home\", mu=0, sigma=7)\n",
    "    wide_home = beta_home * home_vals  # weeks x players\n",
    "\n",
    "    # Points scored each week is an RV centered on player traits, the opponent, and home-field advantage\n",
    "    # When a team has a bye, replace the estimated weekly score with 0.0\n",
    "    weekly_mu = (\n",
    "        player + wide_opp + wide_home\n",
    "    )  # broadcasting is OK: player is 1 x players; other two are weeks x players\n",
    "    weekly_points = pm.Normal(\"weekly_points\", mu=weekly_mu, sigma=1, dims=[\"weeks\", \"players\"])\n",
    "    weekly_points = at.set_subtensor(weekly_points[bye_mask], 0.0)\n",
    "\n",
    "    # The evolution of a player's cumulative score over the season is a gaussian random walk (GRW) with drift\n",
    "    points_sigma = pm.HalfNormal(\"points_std\", sigma=7)\n",
    "    points_mu = pm.Deterministic(\"points_mu\", weekly_points.cumsum(axis=0), dims=[\"weeks\", \"players\"])\n",
    "\n",
    "    # Evalute the model likelihood based on where the GRW lands the player at the end of the season\n",
    "    points = pm.Normal(\"points\", mu=points_mu[-1, :], sigma=points_sigma, observed=proj_points, dims=\"players\")\n",
    "\n",
    "display(pm.model_to_graphviz(model))\n",
    "model.point_logps()"
   ]
  },
  {
   "cell_type": "code",
   "execution_count": null,
   "id": "4574b478-b0ca-4dd2-813d-f4df660a8b5b",
   "metadata": {},
   "outputs": [],
   "source": [
    "# Sample model\n",
    "with model:\n",
    "    trace = pm.sample(draws=1000, tune=2000, init=\"jitter+adapt_diag_grad\", target_accept=0.9)"
   ]
  },
  {
   "cell_type": "code",
   "execution_count": null,
   "id": "ca14cfb9-d015-4759-af09-10de29096a64",
   "metadata": {},
   "outputs": [],
   "source": [
    "# Check opponent-specific parameters\n",
    "trace_helper(trace, [\"opp_std\", \"opp_mu\", \"opp_offset\", \"opp\"])"
   ]
  },
  {
   "cell_type": "code",
   "execution_count": null,
   "id": "49edcdcc-d3c2-4813-aaf7-7ced344ba05b",
   "metadata": {},
   "outputs": [],
   "source": [
    "# Check player-specific parameters\n",
    "trace_helper(trace, [\"player_std\", \"player_mu\", \"player_offset\", \"player\"])"
   ]
  },
  {
   "cell_type": "code",
   "execution_count": null,
   "id": "b34810cf-9271-4ed3-9f32-5a54b12562e2",
   "metadata": {},
   "outputs": [],
   "source": [
    "# Check miscellaneous parameters\n",
    "trace_helper(trace, [\"home\"])"
   ]
  },
  {
   "cell_type": "code",
   "execution_count": null,
   "id": "9d8343d5-3bab-4613-aa15-9a6f1a7e6e13",
   "metadata": {},
   "outputs": [],
   "source": [
    "az.plot_pair(trace, var_names=[\"opp_std\", \"opp_mu\", \"player_std\", \"player_mu\"], coords=coords, divergences=True);"
   ]
  },
  {
   "cell_type": "code",
   "execution_count": null,
   "id": "9e47230c-5c1c-4f74-bbc7-f3e7872e7d65",
   "metadata": {},
   "outputs": [],
   "source": [
    "# Get posterior predicted weekly points\n",
    "posterior_weekly_points_vals = trace.posterior.weekly_points.mean(axis=0).mean(axis=0)\n",
    "posterior_weekly_points = posterior_weekly_points_vals.to_dataframe()[\"weekly_points\"]"
   ]
  },
  {
   "cell_type": "code",
   "execution_count": null,
   "id": "06c790c4-1b42-4202-a3ef-55f4614d31bf",
   "metadata": {},
   "outputs": [],
   "source": [
    "plot_player(posterior_weekly_points, players_map, \"Matthew Stafford\")"
   ]
  },
  {
   "cell_type": "code",
   "execution_count": null,
   "id": "d35e943d-214d-47f5-8993-0e28fc4dc761",
   "metadata": {},
   "outputs": [],
   "source": []
  }
 ],
 "metadata": {
  "kernelspec": {
   "display_name": "Python 3 (ipykernel)",
   "language": "python",
   "name": "python3"
  },
  "language_info": {
   "codemirror_mode": {
    "name": "ipython",
    "version": 3
   },
   "file_extension": ".py",
   "mimetype": "text/x-python",
   "name": "python",
   "nbconvert_exporter": "python",
   "pygments_lexer": "ipython3",
   "version": "3.9.13"
  }
 },
 "nbformat": 4,
 "nbformat_minor": 5
}
