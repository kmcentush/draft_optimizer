{
 "cells": [
  {
   "cell_type": "code",
   "execution_count": null,
   "id": "1d4f2663-b9d9-47e2-9654-6008c75917ad",
   "metadata": {},
   "outputs": [],
   "source": [
    "import ast\n",
    "import os\n",
    "\n",
    "import aesara.tensor as at\n",
    "import arviz as az\n",
    "import matplotlib.pyplot as plt\n",
    "import numpy as np\n",
    "import pandas as pd\n",
    "import pymc as pm\n",
    "from sklearn.preprocessing import LabelEncoder\n",
    "\n",
    "from draft_optimizer.src.utils import DATA_DIR"
   ]
  },
  {
   "cell_type": "code",
   "execution_count": null,
   "id": "ed10b396-4309-47ef-b4c6-5d2301792e81",
   "metadata": {},
   "outputs": [],
   "source": [
    "def trace_helper(trace, var_names):\n",
    "    display(az.summary(trace, var_names=var_names, kind=\"diagnostics\"))\n",
    "    az.plot_trace(trace, var_names=var_names, compact=False)\n",
    "    plt.show()"
   ]
  },
  {
   "cell_type": "code",
   "execution_count": null,
   "id": "9535f2a6-83ef-4165-ba8d-f8c5fb3de66d",
   "metadata": {},
   "outputs": [],
   "source": [
    "# Load data\n",
    "league_id = 88497130\n",
    "years = [2019, 2020, 2021, 2022]\n",
    "teams_raw, schedule_raw, players_raw = [], [], []\n",
    "for year in years:\n",
    "    # Load data\n",
    "    league_dir = os.path.join(DATA_DIR, f\"espn_{league_id}\", str(year))\n",
    "    teams_raw_year = pd.read_csv(os.path.join(league_dir, \"pro_teams.csv\"))\n",
    "    schedule_raw_year = pd.read_csv(os.path.join(league_dir, \"pro_schedule.csv\"))\n",
    "    players_raw_year = pd.read_csv(os.path.join(league_dir, \"pro_players.csv\"))\n",
    "\n",
    "    # Add year\n",
    "    teams_raw_year[\"year\"] = year\n",
    "    schedule_raw_year[\"year\"] = year\n",
    "    players_raw_year[\"year\"] = year\n",
    "\n",
    "    # Append\n",
    "    teams_raw.append(teams_raw_year)\n",
    "    schedule_raw.append(schedule_raw_year)\n",
    "    players_raw.append(players_raw_year)\n",
    "\n",
    "# Concat\n",
    "teams_raw = pd.concat(teams_raw, axis=0, ignore_index=True)\n",
    "schedule_raw = pd.concat(schedule_raw, axis=0, ignore_index=True)\n",
    "players_raw = pd.concat(players_raw, axis=0, ignore_index=True)\n",
    "\n",
    "# Export for PyMC help\n",
    "teams_raw.to_csv(os.path.join(DATA_DIR, f\"espn_{league_id}\", \"teams_raw.csv\"), index=False)\n",
    "schedule_raw.to_csv(os.path.join(DATA_DIR, f\"espn_{league_id}\", \"schedule_raw.csv\"), index=False)\n",
    "players_raw.to_csv(os.path.join(DATA_DIR, f\"espn_{league_id}\", \"players_raw.csv\"), index=False)"
   ]
  },
  {
   "cell_type": "code",
   "execution_count": null,
   "id": "9f31cdad-2f37-4259-95bf-856459c8613a",
   "metadata": {},
   "outputs": [],
   "source": [
    "# Get maps using latest abbrev/name; ex: Commanders D/ST instead of Washington D/ST\n",
    "teams_map = teams_raw.groupby(\"id\")[\"abbrev\"].last()\n",
    "teams_map = pd.Series(teams_map.index.values, index=teams_map)\n",
    "players_map = players_raw.groupby(\"id\")[\"name\"].last()\n",
    "players_map = pd.Series(players_map.index.values, index=players_map)"
   ]
  },
  {
   "cell_type": "code",
   "execution_count": null,
   "id": "3238a190-5203-41bd-8dd8-d9e79c742f8d",
   "metadata": {},
   "outputs": [],
   "source": [
    "# Prepare weekly data\n",
    "players_df = players_raw.copy()\n",
    "players_df[\"team_id\"] = players_df[\"pro_team\"].map(teams_map)\n",
    "players_df = players_df[[\"id\", \"position\", \"year\", \"team_id\"]].rename({\"id\": \"player_id\"}, axis=1)\n",
    "home_data = schedule_raw[[\"home_id\", \"away_id\", \"year\", \"week\"]].merge(\n",
    "    players_df, left_on=[\"year\", \"home_id\"], right_on=[\"year\", \"team_id\"]\n",
    ")\n",
    "home_data[\"home\"] = True\n",
    "home_data[\"opponent_id\"] = home_data[\"away_id\"]\n",
    "away_data = schedule_raw[[\"home_id\", \"away_id\", \"year\", \"week\"]].merge(\n",
    "    players_df, left_on=[\"year\", \"away_id\"], right_on=[\"year\", \"team_id\"]\n",
    ")\n",
    "away_data[\"home\"] = False\n",
    "away_data[\"opponent_id\"] = away_data[\"home_id\"]\n",
    "weekly_data = (\n",
    "    pd.concat([home_data, away_data], axis=0).drop([\"team_id\", \"home_id\", \"away_id\"], axis=1).dropna(how=\"any\")\n",
    ")\n",
    "weekly_data = weekly_data.sort_values([\"year\", \"week\", \"player_id\"])\n",
    "\n",
    "# Get years\n",
    "years = sorted(weekly_data[\"year\"].unique())\n",
    "\n",
    "print(weekly_data.shape)\n",
    "weekly_data.head()"
   ]
  },
  {
   "cell_type": "code",
   "execution_count": null,
   "id": "4ec4257e-e080-4eab-8e1b-955dde485259",
   "metadata": {},
   "outputs": [],
   "source": [
    "# Get historic weekly data\n",
    "historic_weekly_points = players_raw.set_index([\"year\", \"id\"])[\"weekly_points\"]\n",
    "historic_weekly_points = historic_weekly_points.loc[\n",
    "    historic_weekly_points.index.get_level_values(0) != years[-1]\n",
    "]  # exclude latest year, i.e. the one we're making projections for\n",
    "historic_weekly_points = historic_weekly_points.apply(lambda v: ast.literal_eval(v))  # str -> dict\n",
    "historic_weekly_points = historic_weekly_points.apply(lambda v: pd.Series(v, dtype=float))\n",
    "historic_weekly_points.columns.name = \"week\"\n",
    "historic_weekly_points = historic_weekly_points.stack()  # drops NaN rows, i.e. where a player didn't see the field\n",
    "historic_weekly_points = historic_weekly_points.reset_index().rename({\"id\": \"player_id\", 0: \"points\"}, axis=1)\n",
    "historic_weekly_data = weekly_data.merge(\n",
    "    historic_weekly_points, left_on=[\"year\", \"week\", \"player_id\"], right_on=[\"year\", \"week\", \"player_id\"], how=\"right\"\n",
    ")\n",
    "\n",
    "print(historic_weekly_data.shape)\n",
    "historic_weekly_data.head()"
   ]
  },
  {
   "cell_type": "code",
   "execution_count": null,
   "id": "9e65114d-4dcb-467a-a9a6-f742a4afd14d",
   "metadata": {},
   "outputs": [],
   "source": [
    "# Get future points projection\n",
    "proj_points = players_raw.loc[players_raw[\"year\"] == years[-1]].groupby(\"id\")[\"proj_points\"].first()\n",
    "proj_points = proj_points.loc[proj_points > 0]  # exclude players who aren't expected to see the field\n",
    "\n",
    "# Get future weekly data (i.e. the year we're making projects for)\n",
    "future_weekly_data = weekly_data.loc[weekly_data[\"year\"] == years[-1]]\n",
    "future_weekly_data = future_weekly_data.loc[future_weekly_data[\"player_id\"].isin(proj_points.index)]\n",
    "\n",
    "print(proj_points.shape)\n",
    "display(proj_points.head())\n",
    "print(future_weekly_data.shape)\n",
    "future_weekly_data.head()"
   ]
  },
  {
   "cell_type": "markdown",
   "id": "674e1257-c9b1-4f9a-9654-dc95d977a3b0",
   "metadata": {},
   "source": [
    "# One Position, Just Historic\n",
    "* TODO: weekly effect within each year?\n",
    "* Once this works well, include the projected points as a second likelihood"
   ]
  },
  {
   "cell_type": "code",
   "execution_count": null,
   "id": "10bf4ced-7f01-464a-aa5e-a9634b6a557c",
   "metadata": {},
   "outputs": [],
   "source": [
    "# Subset data\n",
    "pos = \"QB\"\n",
    "historic = historic_weekly_data.loc[historic_weekly_data[\"position\"] == pos]\n",
    "future = future_weekly_data.loc[future_weekly_data[\"position\"] == pos]\n",
    "players = sorted(set(historic[\"player_id\"].unique()) | set(future[\"player_id\"].unique()))\n",
    "pos_proj_points = proj_points.loc[future[\"player_id\"]].sort_index()\n",
    "\n",
    "# Build coords\n",
    "teams = sorted(\n",
    "    set(historic[\"opponent_id\"].unique()) | set(future[\"opponent_id\"].unique()) | {np.nan}\n",
    ")  # include NaN for bye weeks\n",
    "coords = {\"teams\": teams, \"players\": players, \"years\": years}\n",
    "\n",
    "# Fit encoders\n",
    "teams_encoder = LabelEncoder().fit(teams)\n",
    "players_encoder = LabelEncoder().fit(players)\n",
    "years_encoder = LabelEncoder().fit(years)\n",
    "\n",
    "# Prepare historic data\n",
    "historic_opp_idx = teams_encoder.transform(historic[\"opponent_id\"])\n",
    "historic_player_idx = players_encoder.transform(historic[\"player_id\"])\n",
    "historic_year_idx = years_encoder.transform(historic[\"year\"])\n",
    "historic_home_vals = historic[\"home\"].astype(float).values\n",
    "historic_points_vals = historic[\"points\"].values"
   ]
  },
  {
   "cell_type": "code",
   "execution_count": null,
   "id": "aafcd9f3-c9f4-44ad-8fc6-87019b829bd6",
   "metadata": {},
   "outputs": [],
   "source": [
    "with pm.Model(coords=coords) as model:\n",
    "    # Opponent-specific parameters (non-centered format for better sampling)\n",
    "    opp_std = pm.HalfNormal(\"opp_std\", sigma=7)\n",
    "    # opp_mu = pm.Normal(\"opp_mu\", mu=0, sigma=7)  # indistinguishable with `player_mu`, so removing this parameter\n",
    "    # Non-GRW implementation\n",
    "    # opp_offset = pm.Normal(\"opp_offset\", mu=0, sigma=7, dims=[\"years\", \"teams\"])\n",
    "    # opp = pm.Deterministic(\"opp\", opp_std * opp_offset, dims=[\"years\", \"teams\"])  # opp_mu\n",
    "    # GRW implementation\n",
    "    opp_offset = pm.Normal(\"opp_offset\", mu=0, sigma=7, dims=[\"years\", \"teams\"])\n",
    "    yearly_opp = pm.Deterministic(\"yearly_opp\", opp_std * opp_offset, dims=[\"years\", \"teams\"])  # opp_mu\n",
    "    opp_zeros = at.shape_padleft(at.zeros_like(yearly_opp[0, :]))\n",
    "    opp_cumsum = yearly_opp.cumsum(axis=0)[:-1]\n",
    "    opp = pm.Deterministic(\"opp\", yearly_opp - at.concatenate([opp_zeros, opp_cumsum], axis=0), dims=[\"years\", \"teams\"])\n",
    "\n",
    "    # Player-specific parameters (non-centered format for better sampling)\n",
    "    player_std = pm.HalfNormal(\"player_std\", sigma=7)\n",
    "    player_mu = pm.Normal(\"player_mu\", mu=0, sigma=7)  # indistinguishable with `opp_mu`, so pnly using this parameter\n",
    "    # Non-GRW implementation\n",
    "    # player_offset = pm.Normal(\"player_offset\", mu=0, sigma=7, dims=[\"years\", \"players\"])\n",
    "    # player = pm.Deterministic(\"player\", player_mu + player_std * player_offset, dims=[\"years\", \"players\"])\n",
    "    # GRW implementation\n",
    "    player_offset = pm.Normal(\"player_offset\", mu=0, sigma=7, dims=[\"years\", \"players\"])\n",
    "    yearly_player = pm.Deterministic(\"yearly_player\", player_mu + player_std * player_offset, dims=[\"years\", \"players\"])\n",
    "    players_zeros = at.shape_padleft(at.zeros_like(yearly_player[0, :]))\n",
    "    players_cumsum = yearly_player.cumsum(axis=0)[:-1]\n",
    "    player = pm.Deterministic(\n",
    "        \"player\", yearly_player - at.concatenate([players_zeros, players_cumsum], axis=0), dims=[\"years\", \"players\"]\n",
    "    )\n",
    "\n",
    "    # Home-field advantage\n",
    "    # Non-GRW implementation\n",
    "    # home = pm.Normal(\"home\", mu=0, sigma=1, dims=\"years\")\n",
    "    # GRW implementation\n",
    "    yearly_home = pm.Normal(\"yearly_home\", mu=0, sigma=1, dims=\"years\")\n",
    "    home = pm.Deterministic(\"home\", yearly_home - at.concatenate([[0.0], yearly_home.cumsum()[:-1]]), dims=\"years\")\n",
    "    historic_home = home[historic_year_idx] * historic_home_vals\n",
    "\n",
    "    # Historic weekly points projection: RV centered on player traits, the opponent, and home-field advantage\n",
    "    historic_points_mu = (\n",
    "        player[historic_year_idx, historic_player_idx] + opp[historic_year_idx, historic_opp_idx] + historic_home\n",
    "    )\n",
    "\n",
    "    # Likelihood based on historic points projects\n",
    "    points_std = pm.HalfNormal(\"points_std\", sigma=7)\n",
    "    historic_points = pm.Normal(\n",
    "        \"historic_points\", mu=historic_points_mu, sigma=points_std, observed=historic_points_vals\n",
    "    )\n",
    "\n",
    "display(pm.model_to_graphviz(model))\n",
    "model.point_logps()"
   ]
  },
  {
   "cell_type": "code",
   "execution_count": null,
   "id": "4574b478-b0ca-4dd2-813d-f4df660a8b5b",
   "metadata": {},
   "outputs": [],
   "source": [
    "# Sample model\n",
    "with model:\n",
    "    trace = pm.sample(draws=1000, tune=2000, init=\"jitter+adapt_diag_grad\")"
   ]
  },
  {
   "cell_type": "code",
   "execution_count": null,
   "id": "ca14cfb9-d015-4759-af09-10de29096a64",
   "metadata": {},
   "outputs": [],
   "source": [
    "# Check opponent-specific parameters\n",
    "trace_helper(trace, [\"opp_std\", \"opp_offset\", \"opp\"])  # \"opp_mu\""
   ]
  },
  {
   "cell_type": "code",
   "execution_count": null,
   "id": "49edcdcc-d3c2-4813-aaf7-7ced344ba05b",
   "metadata": {},
   "outputs": [],
   "source": [
    "# Check player-specific parameters\n",
    "trace_helper(trace, [\"player_std\", \"player_mu\", \"player_offset\", \"player\"])"
   ]
  },
  {
   "cell_type": "code",
   "execution_count": null,
   "id": "b34810cf-9271-4ed3-9f32-5a54b12562e2",
   "metadata": {},
   "outputs": [],
   "source": [
    "# Check miscellaneous parameters\n",
    "trace_helper(trace, [\"home\"])"
   ]
  },
  {
   "cell_type": "code",
   "execution_count": null,
   "id": "9d8343d5-3bab-4613-aa15-9a6f1a7e6e13",
   "metadata": {},
   "outputs": [],
   "source": [
    "az.plot_pair(trace, var_names=[\"opp_std\", \"player_std\", \"player_mu\"], coords=coords, divergences=True)\n",
    "# \"opp_mu\""
   ]
  },
  {
   "cell_type": "code",
   "execution_count": null,
   "id": "d35e943d-214d-47f5-8993-0e28fc4dc761",
   "metadata": {},
   "outputs": [],
   "source": [
    "# Plot posterior historic points vs. actual historic points\n",
    "with model:\n",
    "    posterior = pm.sample_posterior_predictive(trace)\n",
    "posterior_historic_points = posterior.posterior_predictive[\"historic_points\"].mean(axis=0).mean(axis=0)\n",
    "fig, ax = plt.subplots()\n",
    "ax.scatter(historic_points_vals, posterior_historic_points, alpha=0.15, color=\"blue\")\n",
    "points_min = np.min([historic_points_vals.min(), posterior_historic_points.values.min()])\n",
    "points_max = np.max([historic_points_vals.max(), posterior_historic_points.values.max()])\n",
    "diag = np.linspace(points_min, points_max, 25)\n",
    "ax.plot(diag, diag, alpha=0.5, ls=\"--\", color=\"orange\")\n",
    "ax.set_xlabel(\"Actual\")\n",
    "ax.set_ylabel(\"Predicted\")\n",
    "plt.show()"
   ]
  },
  {
   "cell_type": "code",
   "execution_count": null,
   "id": "f6b8728a-16b2-4e1c-a78f-c6c9d27fe294",
   "metadata": {},
   "outputs": [],
   "source": []
  }
 ],
 "metadata": {
  "kernelspec": {
   "display_name": "Python 3 (ipykernel)",
   "language": "python",
   "name": "python3"
  },
  "language_info": {
   "codemirror_mode": {
    "name": "ipython",
    "version": 3
   },
   "file_extension": ".py",
   "mimetype": "text/x-python",
   "name": "python",
   "nbconvert_exporter": "python",
   "pygments_lexer": "ipython3",
   "version": "3.9.13"
  }
 },
 "nbformat": 4,
 "nbformat_minor": 5
}
