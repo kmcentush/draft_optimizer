{
 "cells": [
  {
   "cell_type": "code",
   "execution_count": null,
   "id": "1d4f2663-b9d9-47e2-9654-6008c75917ad",
   "metadata": {},
   "outputs": [],
   "source": [
    "import os\n",
    "\n",
    "import aesara.tensor as at\n",
    "import arviz as az\n",
    "import pandas as pd\n",
    "import pymc as pm\n",
    "from sklearn.preprocessing import LabelEncoder, MinMaxScaler\n",
    "\n",
    "from draft_optimizer.src.utils import DATA_DIR"
   ]
  },
  {
   "cell_type": "code",
   "execution_count": null,
   "id": "ed10b396-4309-47ef-b4c6-5d2301792e81",
   "metadata": {},
   "outputs": [],
   "source": [
    "def trace_helper(trace, var_names):\n",
    "    display(az.summary(trace, var_names=var_names, kind=\"diagnostics\"))\n",
    "    az.plot_trace(trace, var_names=var_names, compact=False)"
   ]
  },
  {
   "cell_type": "code",
   "execution_count": null,
   "id": "9535f2a6-83ef-4165-ba8d-f8c5fb3de66d",
   "metadata": {},
   "outputs": [],
   "source": [
    "# Load data\n",
    "league_id = 88497130\n",
    "year = 2022\n",
    "league_dir = os.path.join(DATA_DIR, f\"espn_{league_id}_{year}\")\n",
    "teams_raw = players_df = pd.read_csv(os.path.join(league_dir, \"pro_teams.csv\"))\n",
    "schedule_raw = pd.read_csv(os.path.join(league_dir, \"pro_schedule.csv\"))\n",
    "players_raw = pd.read_csv(os.path.join(league_dir, \"pro_players.csv\"))"
   ]
  },
  {
   "cell_type": "code",
   "execution_count": null,
   "id": "9f31cdad-2f37-4259-95bf-856459c8613a",
   "metadata": {},
   "outputs": [],
   "source": [
    "# Get maps\n",
    "team_map = teams_raw.set_index(\"abbrev\")[\"id\"]\n",
    "\n",
    "# Prepare data\n",
    "players_df = players_raw.copy()\n",
    "players_df[\"team_id\"] = players_df[\"pro_team\"].map(team_map)\n",
    "players_df = players_df[[\"id\", \"position\", \"proj_points\", \"team_id\"]].rename({\"id\": \"player_id\"}, axis=1)\n",
    "home_data = schedule_raw[[\"home_id\", \"away_id\", \"week\"]].merge(players_df, left_on=\"home_id\", right_on=\"team_id\")\n",
    "home_data[\"home\"] = True\n",
    "home_data[\"offense_id\"] = home_data[\"home_id\"]\n",
    "home_data[\"defense_id\"] = home_data[\"away_id\"]\n",
    "away_data = schedule_raw[[\"home_id\", \"away_id\", \"week\"]].merge(players_df, left_on=\"away_id\", right_on=\"team_id\")\n",
    "away_data[\"home\"] = False\n",
    "away_data[\"offense_id\"] = away_data[\"away_id\"]\n",
    "away_data[\"defense_id\"] = away_data[\"home_id\"]\n",
    "all_data = pd.concat([home_data, away_data], axis=0).drop([\"team_id\", \"home_id\", \"away_id\"], axis=1).dropna(how=\"any\")\n",
    "\n",
    "print(all_data.shape)\n",
    "all_data.head()"
   ]
  },
  {
   "cell_type": "markdown",
   "id": "093e42d6-cbe6-4b6f-acbb-0e72ca89194e",
   "metadata": {
    "jp-MarkdownHeadingCollapsed": true,
    "tags": []
   },
   "source": [
    "# One Week, One Position\n",
    "* Probably will diverage a bunch because single data point for each player"
   ]
  },
  {
   "cell_type": "code",
   "execution_count": null,
   "id": "c1614d53-cbd2-420f-8717-bfc1d4dfeba0",
   "metadata": {},
   "outputs": [],
   "source": [
    "# Subset data\n",
    "week = 1\n",
    "pos = \"QB\"\n",
    "data = all_data.loc[(all_data[\"week\"] == week) & (all_data[\"position\"] == pos)]\n",
    "\n",
    "# Prepare to model teams\n",
    "teams = sorted(set(data[\"offense_id\"].unique()) | set(data[\"defense_id\"].unique()))\n",
    "teams_encoder = LabelEncoder().fit(teams)\n",
    "off_idx = teams_encoder.transform(data[\"offense_id\"])\n",
    "def_idx = teams_encoder.transform(data[\"defense_id\"])\n",
    "\n",
    "# Prepare to model home field advantage\n",
    "side = data[\"home\"].values\n",
    "\n",
    "# Prepare to model players\n",
    "players = sorted(data[\"player_id\"].unique())\n",
    "players_encoder = LabelEncoder().fit(players)\n",
    "player_idx = players_encoder.transform(data[\"player_id\"])\n",
    "\n",
    "# Prepare to model points\n",
    "scaler = MinMaxScaler()\n",
    "scaled_points = scaler.fit_transform(data[[\"proj_points\"]]).ravel()\n",
    "\n",
    "# Build coords\n",
    "coords = {\"team\": teams, \"player_\": players}\n",
    "\n",
    "print(data.shape)\n",
    "data.head()"
   ]
  },
  {
   "cell_type": "code",
   "execution_count": null,
   "id": "b48d05d7-fbb1-4711-9e2e-425bc3a8ebdd",
   "metadata": {},
   "outputs": [],
   "source": [
    "# TODO: home field advantage\n",
    "\n",
    "# Build model\n",
    "with pm.Model(coords=coords) as model:\n",
    "    # Global parameters\n",
    "    # home = pm.Normal(\"home\", mu=0, sigma=1)  # TODO: use `side`\n",
    "    off_std = pm.HalfNormal(\"off_std\", sigma=2)\n",
    "    def_std = pm.HalfNormal(\"def_std\", sigma=2)\n",
    "    player_std = pm.HalfNormal(\"player_std\", sigma=2)\n",
    "    intercept = pm.Normal(\"intercept\", mu=3, sigma=1)\n",
    "    \n",
    "    # Team-specific parameters\n",
    "    off_star = pm.Normal(\"off_star\", mu=0, sigma=off_std, dims=\"team\")\n",
    "    def_star = pm.Normal(\"def_star\", mu=0, sigma=def_std, dims=\"team\")\n",
    "    off = pm.Deterministic(\"off\", off_star - at.mean(off_star), dims=\"team\")\n",
    "    def_ = pm.Deterministic(\"def\", def_star - at.mean(def_star), dims=\"team\")\n",
    "    \n",
    "    # Player-specific parameters\n",
    "    player_star = pm.Normal(\"player_star\", mu=0, sigma=player_std, dims=\"player_\")\n",
    "    player = pm.Deterministic(\"player\", player_star - at.mean(player_star), dims=\"player_\")\n",
    "    \n",
    "    # Likelihoods\n",
    "    theta = at.exp(intercept + player[player_idx] + off[off_idx] + def_[def_idx])\n",
    "    points = pm.TruncatedNormal(\"points\", mu=theta, sigma=2, lower=0, observed=scaled_points)  # TODO: parameterize sigma?"
   ]
  },
  {
   "cell_type": "code",
   "execution_count": null,
   "id": "7e32103b-2932-4b96-a992-82213740f13f",
   "metadata": {},
   "outputs": [],
   "source": [
    "# Sample model\n",
    "with model:\n",
    "    trace = pm.sample(1000, tune=1500, cores=4)"
   ]
  },
  {
   "cell_type": "code",
   "execution_count": null,
   "id": "da1ad428-22a9-4661-bc05-b5f564b84d89",
   "metadata": {},
   "outputs": [],
   "source": [
    "# Check global parameters\n",
    "trace_helper(trace, [\"off_std\", \"def_std\", \"player_std\", \"intercept\"])"
   ]
  },
  {
   "cell_type": "code",
   "execution_count": null,
   "id": "32398ea3-48e3-43e3-91ee-c36f40f854f3",
   "metadata": {},
   "outputs": [],
   "source": [
    "# Check team-specific parameters\n",
    "trace_helper(trace, [\"off_star\", \"def_star\", \"off\", \"def\"])"
   ]
  },
  {
   "cell_type": "code",
   "execution_count": null,
   "id": "4f7d97af-777a-43df-8588-0b4a7bcc04eb",
   "metadata": {},
   "outputs": [],
   "source": [
    "# Check player-specific parameters\n",
    "trace_helper(trace, [\"player_star\", \"player\"])"
   ]
  },
  {
   "cell_type": "markdown",
   "id": "674e1257-c9b1-4f9a-9654-dc95d977a3b0",
   "metadata": {},
   "source": [
    "# All Weeks, One Position\n",
    "* Probably will diverage a bunch because single data point for each player"
   ]
  },
  {
   "cell_type": "code",
   "execution_count": null,
   "id": "10bf4ced-7f01-464a-aa5e-a9634b6a557c",
   "metadata": {},
   "outputs": [],
   "source": [
    "# Subset data\n",
    "pos = \"QB\"\n",
    "data = all_data.loc[all_data[\"position\"] == pos]\n",
    "\n",
    "# Prepare to model teams\n",
    "teams = sorted(set(data[\"offense_id\"].unique()) | set(data[\"defense_id\"].unique()))\n",
    "teams_encoder = LabelEncoder().fit(teams)\n",
    "off_idx = teams_encoder.transform(data[\"offense_id\"])\n",
    "def_idx = teams_encoder.transform(data[\"defense_id\"])\n",
    "\n",
    "# Prepare to model home field advantage\n",
    "side = data[\"home\"].values\n",
    "\n",
    "# Prepare to model players\n",
    "players = sorted(data[\"player_id\"].unique())\n",
    "players_encoder = LabelEncoder().fit(players)\n",
    "player_idx = players_encoder.transform(data[\"player_id\"])\n",
    "\n",
    "# Prepare to model points\n",
    "scaler = MinMaxScaler()\n",
    "scaled_points = scaler.fit_transform(data[[\"proj_points\"]]).ravel()\n",
    "\n",
    "# Build coords\n",
    "coords = {\"team\": teams, \"player_\": players}\n",
    "\n",
    "print(data.shape)\n",
    "data.head()"
   ]
  },
  {
   "cell_type": "code",
   "execution_count": null,
   "id": "aafcd9f3-c9f4-44ad-8fc6-87019b829bd6",
   "metadata": {},
   "outputs": [],
   "source": [
    "# TODO: home field advantage\n",
    "\n",
    "# Build model\n",
    "with pm.Model(coords=coords) as model:\n",
    "    # Global parameters\n",
    "    # home = pm.Normal(\"home\", mu=0, sigma=1)  # TODO: use `side`\n",
    "    off_std = pm.HalfNormal(\"off_std\", sigma=2)\n",
    "    def_std = pm.HalfNormal(\"def_std\", sigma=2)\n",
    "    player_std = pm.HalfNormal(\"player_std\", sigma=2)\n",
    "    intercept = pm.Normal(\"intercept\", mu=3, sigma=1)\n",
    "    \n",
    "    # Team-specific parameters\n",
    "    off_star = pm.Normal(\"off_star\", mu=0, sigma=off_std, dims=\"team\")\n",
    "    def_star = pm.Normal(\"def_star\", mu=0, sigma=def_std, dims=\"team\")\n",
    "    off = pm.Deterministic(\"off\", off_star - at.mean(off_star), dims=\"team\")\n",
    "    def_ = pm.Deterministic(\"def\", def_star - at.mean(def_star), dims=\"team\")\n",
    "    \n",
    "    # Player-specific parameters\n",
    "    player_star = pm.Normal(\"player_star\", mu=0, sigma=player_std, dims=\"player_\")\n",
    "    player = pm.Deterministic(\"player\", player_star - at.mean(player_star), dims=\"player_\")\n",
    "    \n",
    "    # Likelihoods\n",
    "    # TODO: sum each week's theta (filtering idx I guess?); then make observed per player dim\n",
    "    theta = at.exp(intercept + player[player_idx] + off[off_idx] + def_[def_idx])\n",
    "    points = pm.TruncatedNormal(\"points\", mu=theta, sigma=2, lower=0, observed=scaled_points)  # TODO: parameterize sigma?"
   ]
  },
  {
   "cell_type": "code",
   "execution_count": null,
   "id": "4574b478-b0ca-4dd2-813d-f4df660a8b5b",
   "metadata": {},
   "outputs": [],
   "source": [
    "# Sample model\n",
    "with model:\n",
    "    trace = pm.sample(1000, tune=1500, cores=4)"
   ]
  },
  {
   "cell_type": "code",
   "execution_count": null,
   "id": "117f9448-4b0a-4056-8c5c-955afe75079e",
   "metadata": {},
   "outputs": [],
   "source": [
    "# Check global parameters\n",
    "trace_helper(trace, [\"off_std\", \"def_std\", \"player_std\", \"intercept\"])"
   ]
  },
  {
   "cell_type": "code",
   "execution_count": null,
   "id": "ca14cfb9-d015-4759-af09-10de29096a64",
   "metadata": {},
   "outputs": [],
   "source": [
    "# Check team-specific parameters\n",
    "trace_helper(trace, [\"off_star\", \"def_star\", \"off\", \"def\"])"
   ]
  },
  {
   "cell_type": "code",
   "execution_count": null,
   "id": "49edcdcc-d3c2-4813-aaf7-7ced344ba05b",
   "metadata": {},
   "outputs": [],
   "source": [
    "# Check player-specific parameters\n",
    "trace_helper(trace, [\"player_star\", \"player\"])"
   ]
  },
  {
   "cell_type": "markdown",
   "id": "6a7f6692-bcae-4715-9ef3-c4a0dc3145df",
   "metadata": {
    "jp-MarkdownHeadingCollapsed": true,
    "tags": []
   },
   "source": [
    "# Old"
   ]
  },
  {
   "cell_type": "code",
   "execution_count": null,
   "id": "d36c1a19-856e-4122-b4fa-0eff8943b2af",
   "metadata": {},
   "outputs": [],
   "source": [
    "# Copy data\n",
    "data = all_data.copy()\n",
    "\n",
    "# Prepare to model teams\n",
    "teams = sorted(set(data[\"offense_id\"].unique()) | set(data[\"defense_id\"].unique()))\n",
    "teams_encoder = LabelEncoder().fit(teams)\n",
    "off_idx = teams_encoder.transform(data[\"offense_id\"])\n",
    "def_idx = teams_encoder.transform(data[\"defense_id\"])\n",
    "\n",
    "# Prepare to model home field advantage\n",
    "side = data[\"home\"].values\n",
    "\n",
    "# Prepare to model positions\n",
    "positions = sorted(data[\"position\"].unique())\n",
    "positions_encoder = LabelEncoder().fit(positions)\n",
    "position_idx = positions_encoder.transform(data[\"position\"])\n",
    "\n",
    "# Prepare to model players\n",
    "players = sorted(data[\"player_id\"].unique())\n",
    "players_encoder = LabelEncoder().fit(players)\n",
    "player_idx = players_encoder.transform(data[\"player_id\"])\n",
    "\n",
    "# Prepare to model points\n",
    "scaler = MinMaxScaler()\n",
    "scaled_points = scaler.fit_transform(data[[\"proj_points\"]]).ravel()\n",
    "\n",
    "# Build coords\n",
    "coords = {\"team\": teams, \"position\": positions, \"player_\": players}"
   ]
  },
  {
   "cell_type": "code",
   "execution_count": null,
   "id": "41c7ca77-65ad-4fb3-ad32-5c4b9743acd4",
   "metadata": {},
   "outputs": [],
   "source": [
    "# TODO: home field advantage, player-specific, sum of multiple weeks (i.e. can we sum along week coord wrt the other dims or something?)\n",
    "# Note: bye week is implicitly skipped in this setup since the sum is automatically handled (pending sum along coord)\n",
    "\n",
    "# Build model\n",
    "with pm.Model(coords=coords) as model:\n",
    "    # Global parameters\n",
    "    # home = pm.Normal(\"home\", mu=0, sigma=1)  # TODO: use `side`\n",
    "    off_std = pm.HalfNormal(\"off_std\", sigma=2)\n",
    "    def_std = pm.HalfNormal(\"def_std\", sigma=2)\n",
    "    pos_std = pm.HalfNormal(\"pos_std\", sigma=2)\n",
    "    player_std = pm.HalfNormal(\"player_std\", sigma=2)\n",
    "    intercept = pm.Normal(\"intercept\", mu=3, sigma=1)\n",
    "    \n",
    "    # Team-specific parameters\n",
    "    off_star = pm.Normal(\"off_star\", mu=0, sigma=off_std, dims=\"team\")\n",
    "    def_star = pm.Normal(\"def_star\", mu=0, sigma=def_std, dims=\"team\")\n",
    "    off = pm.Deterministic(\"off\", off_star - at.mean(off_star), dims=\"team\")\n",
    "    def_ = pm.Deterministic(\"def\", def_star - at.mean(def_star), dims=\"team\")\n",
    "    \n",
    "    # Position-specific parameters\n",
    "    pos_star = pm.Normal(\"pos_star\", mu=0, sigma=off_std, dims=\"position\")\n",
    "    pos = pm.Deterministic(\"pos\", pos_star - at.mean(pos_star), dims=\"position\")\n",
    "    \n",
    "    # Player-specific parameters\n",
    "    # player_star = pm.Normal(\"player_star\", mu=0, sigma=player_std, dims=\"player_\")\n",
    "    # player = pm.Deterministic(\"player\", player_star - at.mean(player_star), dims=\"player_\")\n",
    "    \n",
    "    # Likelihoods\n",
    "    theta = at.exp(intercept + pos[position_idx] + off[off_idx] + def_[def_idx])  # player[player_idx] + \n",
    "    points = pm.TruncatedNormal(\"points\", mu=theta, sigma=2, lower=0, observed=scaled_points)  # TODO: parameterize sigma?"
   ]
  },
  {
   "cell_type": "code",
   "execution_count": null,
   "id": "a201d8f2-81f5-4468-a812-e0fc5a734d81",
   "metadata": {},
   "outputs": [],
   "source": [
    "# Sample model\n",
    "with model:\n",
    "    trace = pm.sample(500, tune=1000, cores=4)"
   ]
  },
  {
   "cell_type": "code",
   "execution_count": null,
   "id": "1abf191f-1c50-4853-97fe-35eac1353476",
   "metadata": {},
   "outputs": [],
   "source": [
    "# Check global parameters\n",
    "trace_helper(trace, [\"off_std\", \"def_std\", \"pos_std\", \"player_std\", \"intercept\"])"
   ]
  },
  {
   "cell_type": "code",
   "execution_count": null,
   "id": "981abf8b-3cbb-4480-895f-41a9cf475da8",
   "metadata": {},
   "outputs": [],
   "source": [
    "# Check team-specific parameters\n",
    "trace_helper(trace, [\"off_star\", \"def_star\", \"off\", \"def\"])"
   ]
  },
  {
   "cell_type": "code",
   "execution_count": null,
   "id": "c45c71cc-b9c6-4566-a093-058ab050cb81",
   "metadata": {},
   "outputs": [],
   "source": [
    "# Check player-specific parameters\n",
    "# trace_helper(trace, [\"player_star\", \"player\"])"
   ]
  },
  {
   "cell_type": "code",
   "execution_count": null,
   "id": "aee3b251-dd90-4c9d-bbd9-f257e55dfb53",
   "metadata": {},
   "outputs": [],
   "source": []
  }
 ],
 "metadata": {
  "kernelspec": {
   "display_name": "Python 3 (ipykernel)",
   "language": "python",
   "name": "python3"
  },
  "language_info": {
   "codemirror_mode": {
    "name": "ipython",
    "version": 3
   },
   "file_extension": ".py",
   "mimetype": "text/x-python",
   "name": "python",
   "nbconvert_exporter": "python",
   "pygments_lexer": "ipython3",
   "version": "3.9.13"
  }
 },
 "nbformat": 4,
 "nbformat_minor": 5
}
