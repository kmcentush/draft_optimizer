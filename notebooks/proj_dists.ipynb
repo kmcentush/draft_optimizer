{
 "cells": [
  {
   "cell_type": "code",
   "execution_count": null,
   "id": "7eb99783-191c-401c-aeda-33850e0ac974",
   "metadata": {},
   "outputs": [],
   "source": [
    "import os\n",
    "from typing import Tuple\n",
    "\n",
    "import aesara.tensor as at\n",
    "import arviz as az\n",
    "import matplotlib.pyplot as plt\n",
    "import pandas as pd\n",
    "import plotly.express as px\n",
    "import plotly.graph_objects as go\n",
    "import pymc as pm\n",
    "import pymc.sampling_jax\n",
    "from sklearn.preprocessing import LabelEncoder, StandardScaler\n",
    "\n",
    "from draft_optimizer.src.utils import DATA_DIR"
   ]
  },
  {
   "cell_type": "markdown",
   "id": "6e36debc-a792-4ddc-a5e5-1308c0ceecd1",
   "metadata": {},
   "source": [
    "# Load Data\n",
    "- For `opponent`, consider merging OAK and LV"
   ]
  },
  {
   "cell_type": "code",
   "execution_count": null,
   "id": "432d948b-2aa1-4060-a294-afe370ef07dc",
   "metadata": {},
   "outputs": [],
   "source": [
    "# Load players\n",
    "data_dir = os.path.join(DATA_DIR, \"sleeper\")\n",
    "players = pd.read_csv(os.path.join(data_dir, \"players.csv\"), index_col=0)\n",
    "\n",
    "print(players.shape)\n",
    "players.head()"
   ]
  },
  {
   "cell_type": "code",
   "execution_count": null,
   "id": "284b42a8-7034-41c4-bbef-99dbc75e35a0",
   "metadata": {},
   "outputs": [],
   "source": [
    "# Load data\n",
    "stats_dfs = []\n",
    "projs_dfs = []\n",
    "years = [2018, 2019, 2020, 2021, 2022]\n",
    "for year in years:\n",
    "    # Get paths\n",
    "    data_dir = os.path.join(DATA_DIR, \"sleeper\", str(year))\n",
    "    stats_path = os.path.join(data_dir, \"stats.csv\")\n",
    "    projs_path = os.path.join(data_dir, \"projections.csv\")\n",
    "\n",
    "    # Load\n",
    "    if os.path.isfile(stats_path):\n",
    "        stats_df = pd.read_csv(stats_path)\n",
    "        stats_df[\"year\"] = year\n",
    "        stats_dfs.append(stats_df)\n",
    "    if os.path.isfile(projs_path):\n",
    "        projs_df = pd.read_csv(projs_path)\n",
    "        projs_df[\"year\"] = year\n",
    "        projs_dfs.append(projs_df)\n",
    "\n",
    "# Concat data\n",
    "stats = pd.concat(stats_dfs, axis=0).set_index([\"sleeper_id\", \"year\", \"week\", \"opponent\"])\n",
    "projs = pd.concat(projs_dfs, axis=0).set_index([\"sleeper_id\", \"year\", \"week\", \"opponent\"])\n",
    "\n",
    "# Align data so they have identical indices\n",
    "idx = stats.index.union(projs.index)\n",
    "stats = stats.reindex(idx)\n",
    "projs = projs.reindex(idx)"
   ]
  },
  {
   "cell_type": "markdown",
   "id": "7022a300-c89c-42f4-90c2-7f5bb23c1d20",
   "metadata": {},
   "source": [
    "# Helpers"
   ]
  },
  {
   "cell_type": "code",
   "execution_count": null,
   "id": "52c5e9e3-c694-4189-ab40-8c743a6b4a26",
   "metadata": {},
   "outputs": [],
   "source": [
    "def filter_pos(players, stats, projs, pos) -> Tuple[pd.DataFrame, pd.DataFrame]:\n",
    "    ids = players.loc[players[\"position\"] == pos].index\n",
    "    stats = stats.loc[stats.index.get_level_values(\"sleeper_id\").isin(ids)]\n",
    "    projs = projs.loc[projs.index.get_level_values(\"sleeper_id\").isin(ids)]\n",
    "    return stats, projs\n",
    "\n",
    "\n",
    "def calc_deltas(stats, projs, metric) -> Tuple[pd.DataFrame, StandardScaler]:\n",
    "    deltas = stats[metric] - projs[metric]\n",
    "    deltas = deltas.dropna(how=\"any\")\n",
    "    deltas = deltas.reset_index()\n",
    "    scaler = StandardScaler()\n",
    "    deltas[\"scaled\"] = scaler.fit_transform(deltas[[metric]])\n",
    "\n",
    "    return deltas, scaler\n",
    "\n",
    "\n",
    "def plot_hist(data, metric, color=None, histnorm=\"probability\"):\n",
    "    if color is not None:\n",
    "        color_order = sorted(data[color].unique())\n",
    "        category_orders = {color: color_order}\n",
    "    else:\n",
    "        category_orders = None\n",
    "    fig = px.histogram(\n",
    "        data, x=metric, color=color, opacity=0.25, barmode=\"overlay\", histnorm=histnorm, category_orders=category_orders\n",
    "    )\n",
    "    fig.update_layout(width=720, height=480)\n",
    "    fig.show()\n",
    "\n",
    "\n",
    "def trace_summary(trace, var_names, plot=True):\n",
    "    display(az.summary(trace, var_names=var_names, kind=\"diagnostics\"))\n",
    "    if plot:\n",
    "        az.plot_trace(trace, var_names=var_names, compact=False)\n",
    "        plt.show()"
   ]
  },
  {
   "cell_type": "markdown",
   "id": "b9c54830-4a4e-4e12-89f8-e085c865a28d",
   "metadata": {},
   "source": [
    "# Model"
   ]
  },
  {
   "cell_type": "markdown",
   "id": "cd6e5585-0aa6-4a8a-9a34-7543016a3908",
   "metadata": {},
   "source": [
    "## Prepare"
   ]
  },
  {
   "cell_type": "code",
   "execution_count": null,
   "id": "3e18ec18-55d5-4d1a-af20-3d98cc6c4fe7",
   "metadata": {},
   "outputs": [],
   "source": [
    "# Subset\n",
    "pos_stats, pos_projs = filter_pos(players, stats, projs, \"RB\")"
   ]
  },
  {
   "cell_type": "code",
   "execution_count": null,
   "id": "990fcd6d-3cbd-4daf-b663-6711bd989eeb",
   "metadata": {},
   "outputs": [],
   "source": [
    "# Calculate and scale deltas\n",
    "metric = \"rush_yd\"\n",
    "deltas, scaler = calc_deltas(pos_stats, pos_projs, metric)\n",
    "plot_hist(deltas, \"scaled\", color=\"year\")\n",
    "deltas.groupby(\"year\")[[metric, \"scaled\"]].agg([\"mean\", \"std\"])\n",
    "\n",
    "deltas = deltas.loc[deltas[\"sleeper_id\"] == \"3198\"]"
   ]
  },
  {
   "cell_type": "markdown",
   "id": "20704b57-9a84-4132-97a8-c726fb8d4ffd",
   "metadata": {},
   "source": [
    "## Define"
   ]
  },
  {
   "cell_type": "code",
   "execution_count": null,
   "id": "8603e6a7-77d8-4466-b2b4-259244518a43",
   "metadata": {},
   "outputs": [],
   "source": [
    "# Build coords\n",
    "players_ = sorted(deltas[\"sleeper_id\"].unique())\n",
    "opponents = sorted(deltas[\"opponent\"].unique())\n",
    "years = sorted(deltas[\"year\"].unique())\n",
    "coords = {\"player\": players_, \"year\": years, \"opponent\": opponents}\n",
    "\n",
    "# Fit encoders\n",
    "players_encoder = LabelEncoder().fit(players_)\n",
    "opponents_encoder = LabelEncoder().fit(opponents)\n",
    "years_encoder = LabelEncoder().fit(years)\n",
    "\n",
    "# Prepare data\n",
    "player_idx = players_encoder.transform(deltas[\"sleeper_id\"])\n",
    "opponent_idx = opponents_encoder.transform(deltas[\"opponent\"])\n",
    "year_idx = years_encoder.transform(deltas[\"year\"])\n",
    "vals = deltas[\"scaled\"].values"
   ]
  },
  {
   "cell_type": "code",
   "execution_count": null,
   "id": "ed70d659-e979-48c3-8540-def0d38f8bcc",
   "metadata": {},
   "outputs": [],
   "source": [
    "\"\"\"\n",
    "# Build model\n",
    "with pm.Model(coords=coords) as model:\n",
    "    # Opponent-specific parameters (non-centered format for better sampling)\n",
    "    opp_std = pm.HalfNormal(\"opp_std\", sigma=10)\n",
    "    opp_offset = pm.Normal(\"opp_offset\", mu=0, sigma=1, dims=[\"year\", \"opponent\"])\n",
    "    year_opp = pm.Deterministic(\"year_opp\", opp_std * opp_offset, dims=[\"year\", \"opponent\"])\n",
    "    opp_zeros = at.shape_padleft(at.zeros_like(year_opp[0, :]))\n",
    "    opp_cumsum = year_opp.cumsum(axis=0)[:-1]\n",
    "    opp = pm.Deterministic(\"opp\", year_opp - at.concatenate([opp_zeros, opp_cumsum], axis=0), dims=[\"year\", \"opponent\"])\n",
    "\n",
    "    # Player-specific parameters (non-centered format for better sampling)\n",
    "    player_std = pm.HalfNormal(\"player_std\", sigma=10)\n",
    "    player_mu = pm.Normal(\"player_mu\", mu=0, sigma=10)\n",
    "    player_offset = pm.Normal(\"player_offset\", mu=0, sigma=1, dims=[\"year\", \"player\"])\n",
    "    year_player = pm.Deterministic(\"year_player\", player_mu + player_std * player_offset, dims=[\"year\", \"player\"])\n",
    "    players_zeros = at.shape_padleft(at.zeros_like(year_player[0, :]))\n",
    "    players_cumsum = year_player.cumsum(axis=0)[:-1]\n",
    "    player = pm.Deterministic(  # underscore to not conflict with dimension name\n",
    "        \"player_\",\n",
    "        year_player - at.concatenate([players_zeros, players_cumsum], axis=0),\n",
    "        dims=[\"year\", \"player\"],\n",
    "    )\n",
    "\n",
    "    # Metric: RV centered on player traits and the opponent\n",
    "    metric_mu = player[year_idx, player_idx] + opp[year_idx, opponent_idx]\n",
    "    metric_std = pm.HalfNormal(\"metric_std\", sigma=10)\n",
    "    metric_nu = pm.TruncatedNormal(\"metric_nu\", mu=6, sigma=0.5, lower=1)\n",
    "    metric_ = pm.StudentT(  # underscore to not overwrite variable from pre-processing\n",
    "        \"metric\",\n",
    "        mu=metric_mu,\n",
    "        sigma=metric_std,\n",
    "        nu=metric_nu,\n",
    "        observed=vals,\n",
    "    )\n",
    "\n",
    "display(pm.model_to_graphviz(model))\n",
    "model.point_logps()\n",
    "\"\"\";"
   ]
  },
  {
   "cell_type": "code",
   "execution_count": null,
   "id": "765f236a-681e-4f7f-a0e5-a2e97e4b4151",
   "metadata": {},
   "outputs": [],
   "source": [
    "# Build model\n",
    "with pm.Model(coords=coords) as model:\n",
    "    # Opponent-specific parameters (non-centered format for better sampling)\n",
    "    opp_std = pm.HalfNormal(\"opp_std\", sigma=10)\n",
    "    opp_offset = pm.Normal(\"opp_offset\", mu=0, sigma=10, dims=[\"year\", \"opponent\"])\n",
    "    opp = pm.Deterministic(\"opp\", opp_std * opp_offset, dims=[\"year\", \"opponent\"])\n",
    "\n",
    "    # Player-specific parameters (non-centered format for better sampling)\n",
    "    player_std = pm.HalfNormal(\"player_std\", sigma=10)\n",
    "    player_mu = pm.Normal(\"player_mu\", mu=0, sigma=10)\n",
    "    player_offset = pm.Normal(\"player_offset\", mu=0, sigma=10, dims=[\"year\", \"player\"])\n",
    "    player = pm.Deterministic(\n",
    "        \"player_\", player_mu + player_std * player_offset, dims=[\"year\", \"player\"]\n",
    "    )  # underscore to not conflict with dimension name\n",
    "\n",
    "    # Metric: RV centered on player traits and the opponent\n",
    "    metric_mu = player[year_idx, player_idx] + opp[year_idx, opponent_idx]\n",
    "    metric_std = pm.HalfNormal(\"metric_std\", sigma=10)\n",
    "    metric_ = pm.Normal(  # underscore to not overwrite variable from pre-processing\n",
    "        \"metric\",\n",
    "        mu=metric_mu,\n",
    "        sigma=metric_std,\n",
    "        observed=vals,\n",
    "    )\n",
    "\n",
    "display(pm.model_to_graphviz(model))\n",
    "model.point_logps()"
   ]
  },
  {
   "cell_type": "markdown",
   "id": "e6a0641f-d430-4960-8504-36eae25807bd",
   "metadata": {},
   "source": [
    "## Prior-Predictive Checks"
   ]
  },
  {
   "cell_type": "code",
   "execution_count": null,
   "id": "ec6a8467-daad-494c-b1b3-6f4159a26cfd",
   "metadata": {},
   "outputs": [],
   "source": [
    "# Sample prior\n",
    "with model:\n",
    "    prior = pm.sample_prior_predictive(samples=1000)\n",
    "    prior_scaled = prior[\"prior_predictive\"][\"metric\"].mean(axis=0).mean(axis=0).values\n",
    "\n",
    "# View prior\n",
    "fig = go.Figure()\n",
    "fig.add_trace(go.Histogram(x=vals, opacity=0.25, histnorm=\"probability\", name=\"observed\"))\n",
    "fig.add_trace(go.Histogram(x=prior_scaled, opacity=0.25, histnorm=\"probability\", name=\"prior\"))\n",
    "fig.update_layout(width=720, height=480, barmode=\"overlay\")\n",
    "fig.show()"
   ]
  },
  {
   "cell_type": "markdown",
   "id": "9f957a06-65f7-43b6-aa9e-f1a66ac05216",
   "metadata": {},
   "source": [
    "## Sample"
   ]
  },
  {
   "cell_type": "code",
   "execution_count": null,
   "id": "8681a348-3785-4021-b3fd-5cafe8d34020",
   "metadata": {},
   "outputs": [],
   "source": [
    "# Sample model\n",
    "with model:\n",
    "    trace = pm.sample(draws=1000, tune=2000, init=\"jitter+adapt_diag_grad\")\n",
    "    # trace = pm.sampling_jax.sample_numpyro_nuts(draws=1000, tune=2000)"
   ]
  },
  {
   "cell_type": "markdown",
   "id": "a64c42b2-0920-4abe-8ba1-86e365275ed1",
   "metadata": {},
   "source": [
    "## Posterior-Predictive Checks"
   ]
  },
  {
   "cell_type": "code",
   "execution_count": null,
   "id": "02c223fb-835e-4620-a814-d1bbfe2a7fc6",
   "metadata": {},
   "outputs": [],
   "source": [
    "# Check opponent-specific parameters\n",
    "trace_summary(trace, [\"opp_std\", \"opp_offset\", \"opp\"], plot=False)"
   ]
  },
  {
   "cell_type": "code",
   "execution_count": null,
   "id": "f41204fb-6e1a-408c-9848-dc7e24a02022",
   "metadata": {},
   "outputs": [],
   "source": [
    "# Check player-specific parameters\n",
    "trace_summary(trace, [\"player_std\", \"player_mu\", \"player_offset\", \"player_\"], plot=False)"
   ]
  },
  {
   "cell_type": "code",
   "execution_count": null,
   "id": "3f8a0f6d-59f3-4c0f-a764-ccbb536136e3",
   "metadata": {},
   "outputs": [],
   "source": [
    "# Check miscellaneous parameters\n",
    "trace_summary(trace, [\"metric_std\"], plot=True)  # \"metric_nu\", \"home\""
   ]
  },
  {
   "cell_type": "markdown",
   "id": "c7ffa2b2-eb90-412a-95fc-6b058701da2a",
   "metadata": {},
   "source": [
    "## Posterior Samples"
   ]
  },
  {
   "cell_type": "code",
   "execution_count": null,
   "id": "099b2aa1-9cbe-4397-8333-e73080ceee7d",
   "metadata": {},
   "outputs": [],
   "source": [
    "# Sample posterior\n",
    "with model:\n",
    "    posterior = pm.sample_posterior_predictive(trace)\n",
    "    posterior_scaled = posterior[\"posterior_predictive\"][\"metric\"].mean(axis=0).mean(axis=0).values\n",
    "\n",
    "# View posterior\n",
    "fig = go.Figure()\n",
    "fig.add_trace(go.Histogram(x=vals, opacity=0.25, histnorm=\"probability\", name=\"observed\"))\n",
    "fig.add_trace(go.Histogram(x=posterior_scaled, opacity=0.25, histnorm=\"probability\", name=\"posterior\"))\n",
    "fig.update_layout(width=720, height=480, barmode=\"overlay\")\n",
    "fig.show()"
   ]
  },
  {
   "cell_type": "code",
   "execution_count": null,
   "id": "fde55668-0b21-41c6-ad35-1326b4fa7c85",
   "metadata": {},
   "outputs": [],
   "source": [
    "# Compare to a specific player\n",
    "player_id = \"3198\"\n",
    "is_player = player_idx == players_encoder.transform([player_id])[0]\n",
    "\n",
    "# View posterior\n",
    "fig = go.Figure()\n",
    "fig.add_trace(go.Histogram(x=vals[is_player], opacity=0.25, histnorm=\"probability\", name=\"observed\"))\n",
    "fig.add_trace(go.Histogram(x=posterior_scaled[is_player], opacity=0.25, histnorm=\"probability\", name=\"posterior\"))\n",
    "fig.update_layout(title=player_id, width=720, height=480, barmode=\"overlay\")\n",
    "fig.show()"
   ]
  },
  {
   "cell_type": "code",
   "execution_count": null,
   "id": "62e8c1bc-4a2f-47db-ab3f-f8918350af4b",
   "metadata": {},
   "outputs": [],
   "source": [
    "az.summary(trace, var_names=[\"player_\", \"opp\"])"
   ]
  },
  {
   "cell_type": "code",
   "execution_count": null,
   "id": "fd9c773c-e194-428b-821c-da022ef48ebe",
   "metadata": {},
   "outputs": [],
   "source": []
  }
 ],
 "metadata": {
  "kernelspec": {
   "display_name": "Python 3 (ipykernel)",
   "language": "python",
   "name": "python3"
  },
  "language_info": {
   "codemirror_mode": {
    "name": "ipython",
    "version": 3
   },
   "file_extension": ".py",
   "mimetype": "text/x-python",
   "name": "python",
   "nbconvert_exporter": "python",
   "pygments_lexer": "ipython3",
   "version": "3.9.13"
  }
 },
 "nbformat": 4,
 "nbformat_minor": 5
}
