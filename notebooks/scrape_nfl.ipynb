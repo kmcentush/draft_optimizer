{
 "cells": [
  {
   "cell_type": "code",
   "execution_count": null,
   "id": "07aee950-b5f9-43f8-a979-4af173738f4d",
   "metadata": {},
   "outputs": [],
   "source": [
    "import os\n",
    "from pathlib import Path\n",
    "\n",
    "import numpy as np\n",
    "import pandas as pd\n",
    "from selenium import webdriver\n",
    "from selenium.webdriver.chrome.options import Options\n",
    "\n",
    "from draft_optimizer.src.utils import DATA_DIR\n",
    "\n",
    "# Specify paths\n",
    "year = 2022\n",
    "NFL_DIR = os.path.join(DATA_DIR, \"nfl\", str(year))"
   ]
  },
  {
   "cell_type": "code",
   "execution_count": null,
   "id": "a5c0fe0f-e967-450b-96bf-1677b6e66676",
   "metadata": {},
   "outputs": [],
   "source": [
    "# Specify URL templates\n",
    "TEMPLATE_OFFENSE = \"https://fantasy.nfl.com/research/projections?offset={offset}&position=O&sort=projectedPts&statCategory=projectedStats&statSeason=2022&statType=weekProjectedStats&statWeek={week}\"\n",
    "TEMPLATE_KICKER = \"https://fantasy.nfl.com/research/projections?offset={offset}&position=7&sort=projectedPts&statCategory=projectedStats&statSeason=2022&statType=weekProjectedStats&statWeek={week}\"\n",
    "TEMPLATE_DEFENSE = \"https://fantasy.nfl.com/research/projections?offset={offset}&position=8&sort=projectedPts&statCategory=projectedStats&statSeason=2022&statType=weekProjectedStats&statWeek={week}\""
   ]
  },
  {
   "cell_type": "code",
   "execution_count": null,
   "id": "27e0e156-e442-41b1-91b3-4cc4668fd8e4",
   "metadata": {
    "tags": []
   },
   "outputs": [],
   "source": [
    "# Get driver\n",
    "chrome_options = Options()\n",
    "chrome_options.binary_location = \"C:\\Program Files\\Google\\Chrome Beta\\Application\\chrome.exe\"\n",
    "chrome_options.headless = True\n",
    "driver = webdriver.Chrome(options=chrome_options)\n",
    "\n",
    "# Loop over weeks\n",
    "raw = []\n",
    "for template in [TEMPLATE_OFFENSE, TEMPLATE_KICKER, TEMPLATE_DEFENSE]:\n",
    "    position = template.split(\"position=\")[1][0]\n",
    "    print(f\"Position: {position}\")\n",
    "    for week in range(1, 19):  # 18 weeks\n",
    "        print(f\"   Week: {week}\")\n",
    "\n",
    "        # Prepare to concat\n",
    "        week_df = []\n",
    "\n",
    "        # Loop until no players remain\n",
    "        offset = 1\n",
    "        while True:\n",
    "            print(f\"      Offset: {offset}\")\n",
    "\n",
    "            # Get HTML\n",
    "            url = template.format(week=week, offset=offset)\n",
    "            driver.get(url)\n",
    "            page_html = driver.page_source\n",
    "\n",
    "            # Parse and append\n",
    "            try:\n",
    "                df = pd.read_html(page_html)[0]\n",
    "            except ValueError:\n",
    "                break  # no more tables\n",
    "            df.columns = [f\"{c[0]} {c[1]}\" if \"Unnamed\" not in c[0] else c[1] for c in df.columns]\n",
    "            df = df.rename({\"Team\": \"Player\"}, axis=1)  # for DEF\n",
    "            week_df.append(df)\n",
    "\n",
    "            # Increment offset\n",
    "            offset += df.shape[0]\n",
    "\n",
    "        # Concat and append\n",
    "        week_df = pd.concat(week_df, axis=0, ignore_index=True)\n",
    "        week_df[\"Week\"] = week\n",
    "        raw.append(week_df)\n",
    "\n",
    "# Concat\n",
    "raw = pd.concat(raw, axis=0, ignore_index=True)\n",
    "\n",
    "# Clean up driver\n",
    "driver.quit()"
   ]
  },
  {
   "cell_type": "code",
   "execution_count": null,
   "id": "8fe5087e-fa2d-4c48-b52a-0e0587ed60f9",
   "metadata": {},
   "outputs": [],
   "source": [
    "# Copy data\n",
    "data = raw.copy()\n",
    "\n",
    "# Get player, position, and team\n",
    "player_pos_team_extra = data[\"Player\"].str.rsplit(\" - \", 1)\n",
    "player_pos = player_pos_team_extra.str[0].str.extract(r\"([\\w\\. \\'\\-]+)((?:QB)|(?:RB)|(?:WR)|(?:TE)|(?:DEF)|(?:K))\")\n",
    "player, pos = player_pos[0], player_pos[1]\n",
    "team = player_pos_team_extra.str[1]\n",
    "for to_replace in [\" Q\", \" SUS\", \" IR\", \" PUP\", \" View News\"]:\n",
    "    team = team.str.replace(to_replace, \"\")\n",
    "team[team == \"R\"] = np.nan\n",
    "\n",
    "# Update data\n",
    "data[\"Player\"] = player.str.strip()\n",
    "data[\"Position\"] = pos.str.strip()\n",
    "data[\"Team\"] = team.str.strip()\n",
    "\n",
    "# Fix dtypes\n",
    "data = data.set_index([\"Player\", \"Position\", \"Week\", \"Team\", \"Opp\"])\n",
    "data = data.replace(\"-\", 0).astype(float)\n",
    "data = data.reset_index()\n",
    "\n",
    "print(data.shape)\n",
    "data.head()"
   ]
  },
  {
   "cell_type": "code",
   "execution_count": null,
   "id": "4aca6305-6783-4695-b161-d893fa4eeb00",
   "metadata": {},
   "outputs": [],
   "source": [
    "# Save\n",
    "if not os.path.isdir(NFL_DIR):\n",
    "    Path(NFL_DIR).mkdir(parents=True, exist_ok=True)\n",
    "data.to_csv(os.path.join(NFL_DIR, \"weekly_proj.csv\"), index=False)"
   ]
  },
  {
   "cell_type": "code",
   "execution_count": null,
   "id": "fbd622ae-a406-46ef-929e-bbcedb9ff3c5",
   "metadata": {},
   "outputs": [],
   "source": []
  }
 ],
 "metadata": {
  "kernelspec": {
   "display_name": "Python 3 (ipykernel)",
   "language": "python",
   "name": "python3"
  },
  "language_info": {
   "codemirror_mode": {
    "name": "ipython",
    "version": 3
   },
   "file_extension": ".py",
   "mimetype": "text/x-python",
   "name": "python",
   "nbconvert_exporter": "python",
   "pygments_lexer": "ipython3",
   "version": "3.9.13"
  }
 },
 "nbformat": 4,
 "nbformat_minor": 5
}
