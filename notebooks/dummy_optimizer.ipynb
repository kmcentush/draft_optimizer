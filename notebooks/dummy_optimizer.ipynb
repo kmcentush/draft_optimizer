{
 "cells": [
  {
   "cell_type": "code",
   "execution_count": null,
   "id": "e42390f1-00a8-4e78-838b-960c98840ebe",
   "metadata": {},
   "outputs": [],
   "source": [
    "import cvxpy as cp  # note: also need cvxopt installed\n",
    "import numpy as np\n",
    "import pandas as pd"
   ]
  },
  {
   "cell_type": "markdown",
   "id": "3b114df4-8cf5-4fb0-94a0-b797654d9e6b",
   "metadata": {},
   "source": [
    "# Setup"
   ]
  },
  {
   "cell_type": "code",
   "execution_count": null,
   "id": "310500c6-4b0e-49ef-aed5-56e097f5bddf",
   "metadata": {},
   "outputs": [],
   "source": [
    "# Define players and their point projections\n",
    "players = pd.DataFrame(\n",
    "    [\n",
    "        [\"QB1\", \"QB\", 20, 15],\n",
    "        [\"QB2\", \"QB\", 18, 16],\n",
    "        [\"QB3\", \"QB\", 17, 16],\n",
    "        [\"RB1\", \"RB\", 16, 14],\n",
    "        [\"RB2\", \"RB\", 12, 16],\n",
    "        [\"RB3\", \"RB\", 13, 14],\n",
    "    ],\n",
    "    columns=[\"uid\", \"position\", \"week1\", \"week2\"],\n",
    ")\n",
    "all_idx = set(players.index)\n",
    "week_cols = [c for c in players.columns if c.startswith(\"week\")]\n",
    "\n",
    "players"
   ]
  },
  {
   "cell_type": "code",
   "execution_count": null,
   "id": "7e88d9ea-46be-4451-b4cd-3689fec843d7",
   "metadata": {},
   "outputs": [],
   "source": [
    "# Define draft order\n",
    "draft = [1, 2, 3, 3, 2, 1]\n",
    "num_teams = len(set(draft))"
   ]
  },
  {
   "cell_type": "code",
   "execution_count": null,
   "id": "bd6ec00d-a57e-4d26-9450-80c8e30e53e0",
   "metadata": {},
   "outputs": [],
   "source": [
    "# Define constraints\n",
    "num_players = 2\n",
    "pos_const = {\"QB\": 1, \"RB\": 1}"
   ]
  },
  {
   "cell_type": "code",
   "execution_count": null,
   "id": "94cd8e71-25e6-444c-bdb5-e34798e820eb",
   "metadata": {},
   "outputs": [],
   "source": [
    "def display_draft(picks_idx):\n",
    "    for team, idx in picks_idx.items():\n",
    "        print(f\"--- Team {team} ---\")\n",
    "        roster = players.loc[idx, [\"uid\"] + week_cols].set_index(\"uid\")\n",
    "        sum_points = roster.sum(axis=0).to_frame().rename({0: \"sum_points\"}, axis=1).T\n",
    "        sum_points[\"min\"] = sum_points.min(axis=1)\n",
    "        display(roster)\n",
    "        display(sum_points.sort_index(axis=1))"
   ]
  },
  {
   "cell_type": "markdown",
   "id": "f6b9794d-bd8a-482a-ae0c-00998b773bde",
   "metadata": {},
   "source": [
    "# Method 1: Naive\n",
    "Optimize as if you get all picks in a row."
   ]
  },
  {
   "cell_type": "code",
   "execution_count": null,
   "id": "51e90646-c1ff-43ec-a23d-8eedd5341b37",
   "metadata": {},
   "outputs": [],
   "source": [
    "# Keep track of picks\n",
    "picks_idx = {\n",
    "    1: [],\n",
    "    2: [],\n",
    "    3: [],\n",
    "}\n",
    "picked_idx = []\n",
    "\n",
    "# Optimize draft\n",
    "for team in draft:\n",
    "    # Get available players and those already picked by the team\n",
    "    available_idx = all_idx - set(picked_idx)\n",
    "    prev_picks_idx = set(picks_idx[team])\n",
    "    available_idx |= prev_picks_idx\n",
    "    available_idx = sorted(available_idx)\n",
    "\n",
    "    # Get data\n",
    "    uid_vals = players.loc[available_idx, \"uid\"].values\n",
    "    pos_vals = players.loc[available_idx, \"position\"].values\n",
    "    points_vals = players.loc[available_idx, week_cols].values\n",
    "\n",
    "    # The variable we are solving for. We define our output variable as a bool\n",
    "    # since we have to make a binary decision on each player (pick or don't pick)\n",
    "    roster = cp.Variable(len(available_idx), boolean=True)\n",
    "\n",
    "    # Save constraints\n",
    "    constraints = []\n",
    "\n",
    "    # Our roster must be composed of exactly `num_players` players\n",
    "    constraints.append(cp.sum(roster) == num_players)\n",
    "\n",
    "    # Define position constraints\n",
    "    for pos, num in pos_const.items():\n",
    "        is_pos = pos_vals == pos\n",
    "        constraints.append(cp.sum(is_pos @ roster) == num)\n",
    "\n",
    "    # Define constraints corresponding already picked players\n",
    "    for idx in prev_picks_idx:\n",
    "        did_pick = uid_vals == players.loc[idx, \"uid\"]\n",
    "        constraints.append(cp.sum(did_pick @ roster) == 1)\n",
    "\n",
    "    # Define the objective\n",
    "    weekly_points = roster @ points_vals\n",
    "    min_weekly_points = cp.min(weekly_points)\n",
    "    objective = cp.Maximize(min_weekly_points)\n",
    "\n",
    "    # Solve\n",
    "    problem = cp.Problem(objective, constraints)\n",
    "    problem.solve(max_iters=25)\n",
    "\n",
    "    # Get result\n",
    "    roster_idx = roster.value\n",
    "    opt_roster = np.array(available_idx)[roster_idx.astype(bool)]  # re-align indices\n",
    "    new_pick_idx = list(set(opt_roster) - prev_picks_idx)[0]  # TODO: use ADP or something instead of first\n",
    "    picks_idx[team].append(new_pick_idx)\n",
    "    picked_idx.append(new_pick_idx)\n",
    "\n",
    "# Display draft\n",
    "display_draft(picks_idx)"
   ]
  },
  {
   "cell_type": "markdown",
   "id": "94e30830-3f5e-4074-b1bf-8857231c0c32",
   "metadata": {},
   "source": [
    "# Method 2 - Attempt 1\n",
    "Optimize all picks at once.\n",
    "\n",
    "Doesn't seem to work properly. Draft order seems to be ignored."
   ]
  },
  {
   "cell_type": "code",
   "execution_count": null,
   "id": "cb0ac873-615d-4605-9113-029cbdf6e6f4",
   "metadata": {},
   "outputs": [],
   "source": [
    "# Get data\n",
    "uid_vals = players[\"uid\"].values\n",
    "pos_vals = players[\"position\"].values\n",
    "points_vals = players[week_cols].values\n",
    "\n",
    "# The variable we are solving for. We define our output variable as a bool\n",
    "# since we have to make a binary decision on each player (pick or don't pick)\n",
    "roster = cp.Variable(shape=(num_teams, len(set(uid_vals))), boolean=True)\n",
    "\n",
    "# Save constraints\n",
    "constraints = []\n",
    "\n",
    "# Each roster must be composed of exactly `num_players` players\n",
    "constraints.append(cp.sum(roster, axis=1) == num_players)\n",
    "\n",
    "# A player can only be picked at most once\n",
    "constraints.append(cp.sum(roster, axis=0) <= 1)\n",
    "\n",
    "# Define position constraints per team\n",
    "for pos, num in pos_const.items():\n",
    "    is_pos = pos_vals == pos\n",
    "    constraints.append(roster @ is_pos == num)\n",
    "\n",
    "# Define the objective\n",
    "weekly_points = roster @ points_vals\n",
    "min_weekly_points = cp.min(weekly_points)\n",
    "objective = cp.Maximize(min_weekly_points)\n",
    "\n",
    "# Solve\n",
    "problem = cp.Problem(objective, constraints)\n",
    "problem.solve(max_iters=25)\n",
    "\n",
    "# Get result\n",
    "roster_idx = roster.value\n",
    "picks_idx = {}\n",
    "for i in range(roster_idx.shape[0]):\n",
    "    picks_idx[i + 1] = np.argwhere(roster_idx[i] == 1).ravel()\n",
    "\n",
    "# Display draft\n",
    "display_draft(picks_idx)"
   ]
  },
  {
   "cell_type": "markdown",
   "id": "2df7b682-14ae-409b-b96a-ff09b3129ecd",
   "metadata": {},
   "source": [
    "# Method 2 - Attempt 2\n",
    "Optimize all picks at once.\n",
    "\n",
    "WIP"
   ]
  },
  {
   "cell_type": "code",
   "execution_count": null,
   "id": "5f776b55-6cb3-47ab-b27f-d94775b4a901",
   "metadata": {},
   "outputs": [],
   "source": [
    "# Compute weights\n",
    "# TODO: what should these be? is the dimensionality even correct?\n",
    "n = num_teams\n",
    "step_size = 1 / ((n * (n + 1)) / 2)\n",
    "weights = np.arange(n, 0, -1).reshape(-1, 1) * step_size\n",
    "# weights = (np.ones(num_teams) / np.arange(1, n + 1)).reshape(-1, 1)\n",
    "weights"
   ]
  },
  {
   "cell_type": "code",
   "execution_count": null,
   "id": "7e722f08-5592-4298-88bd-92e9d46dc6f4",
   "metadata": {},
   "outputs": [],
   "source": [
    "# Get data\n",
    "uid_vals = players[\"uid\"].values\n",
    "pos_vals = players[\"position\"].values\n",
    "points_vals = players[week_cols].values\n",
    "\n",
    "# The variable we are solving for. We define our output variable as a bool\n",
    "# since we have to make a binary decision on each player (pick or don't pick)\n",
    "roster = cp.Variable(shape=(num_teams, len(set(uid_vals))), boolean=True)\n",
    "\n",
    "# Save constraints\n",
    "constraints = []\n",
    "\n",
    "# Each roster must be composed of exactly `num_players` players\n",
    "constraints.append(cp.sum(roster, axis=1) == num_players)\n",
    "\n",
    "# A player can only be picked at most once\n",
    "constraints.append(cp.sum(roster, axis=0) <= 1)\n",
    "\n",
    "# Define position constraints per team\n",
    "for pos, num in pos_const.items():\n",
    "    is_pos = pos_vals == pos\n",
    "    constraints.append(roster @ is_pos == num)\n",
    "\n",
    "# Define the objective\n",
    "weekly_points = roster @ points_vals\n",
    "min_weekly_points = cp.min(weekly_points, axis=1)  # per team\n",
    "objective = cp.Maximize(weights.T @ min_weekly_points)  # this isn't correct; how do I incorporate weights?\n",
    "\n",
    "# Solve\n",
    "problem = cp.Problem(objective, constraints)\n",
    "problem.solve(max_iters=25)\n",
    "\n",
    "# Get result\n",
    "roster_idx = roster.value\n",
    "picks_idx = {}\n",
    "for i in range(roster_idx.shape[0]):\n",
    "    picks_idx[i + 1] = np.argwhere(roster_idx[i] == 1).ravel()\n",
    "\n",
    "# Display draft\n",
    "display_draft(picks_idx)"
   ]
  },
  {
   "cell_type": "code",
   "execution_count": null,
   "id": "3c8ff606-c4b9-47af-8bc7-6f667878ac0b",
   "metadata": {},
   "outputs": [],
   "source": []
  }
 ],
 "metadata": {
  "kernelspec": {
   "display_name": "Python 3 (ipykernel)",
   "language": "python",
   "name": "python3"
  },
  "language_info": {
   "codemirror_mode": {
    "name": "ipython",
    "version": 3
   },
   "file_extension": ".py",
   "mimetype": "text/x-python",
   "name": "python",
   "nbconvert_exporter": "python",
   "pygments_lexer": "ipython3",
   "version": "3.9.13"
  }
 },
 "nbformat": 4,
 "nbformat_minor": 5
}
