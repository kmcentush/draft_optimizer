{
 "cells": [
  {
   "cell_type": "code",
   "execution_count": null,
   "id": "1d4f2663-b9d9-47e2-9654-6008c75917ad",
   "metadata": {},
   "outputs": [],
   "source": [
    "import os\n",
    "\n",
    "import aesara.tensor as at\n",
    "import arviz as az\n",
    "import numpy as np\n",
    "import pandas as pd\n",
    "import pymc as pm\n",
    "from sklearn.preprocessing import LabelEncoder, StandardScaler\n",
    "\n",
    "from draft_optimizer.src.utils import DATA_DIR"
   ]
  },
  {
   "cell_type": "code",
   "execution_count": null,
   "id": "ed10b396-4309-47ef-b4c6-5d2301792e81",
   "metadata": {},
   "outputs": [],
   "source": [
    "def trace_helper(trace, var_names):\n",
    "    display(az.summary(trace, var_names=var_names, kind=\"diagnostics\"))\n",
    "    az.plot_trace(trace, var_names=var_names, compact=False)"
   ]
  },
  {
   "cell_type": "code",
   "execution_count": null,
   "id": "9535f2a6-83ef-4165-ba8d-f8c5fb3de66d",
   "metadata": {},
   "outputs": [],
   "source": [
    "# Load data\n",
    "league_id = 88497130\n",
    "year = 2022\n",
    "league_dir = os.path.join(DATA_DIR, f\"espn_{league_id}_{year}\")\n",
    "teams_raw = pd.read_csv(os.path.join(league_dir, \"pro_teams.csv\"))\n",
    "schedule_raw = pd.read_csv(os.path.join(league_dir, \"pro_schedule.csv\"))\n",
    "players_raw = pd.read_csv(os.path.join(league_dir, \"pro_players.csv\"))"
   ]
  },
  {
   "cell_type": "code",
   "execution_count": null,
   "id": "9f31cdad-2f37-4259-95bf-856459c8613a",
   "metadata": {},
   "outputs": [],
   "source": [
    "# Get maps\n",
    "team_map = teams_raw.set_index(\"abbrev\")[\"id\"]\n",
    "\n",
    "# Prepare data\n",
    "players_df = players_raw.copy()\n",
    "players_df[\"team_id\"] = players_df[\"pro_team\"].map(team_map)\n",
    "players_df = players_df[[\"id\", \"position\", \"proj_points\", \"team_id\"]].rename({\"id\": \"player_id\"}, axis=1)\n",
    "home_data = schedule_raw[[\"home_id\", \"away_id\", \"week\"]].merge(players_df, left_on=\"home_id\", right_on=\"team_id\")\n",
    "home_data[\"home\"] = True\n",
    "home_data[\"opponent_id\"] = home_data[\"away_id\"]\n",
    "away_data = schedule_raw[[\"home_id\", \"away_id\", \"week\"]].merge(players_df, left_on=\"away_id\", right_on=\"team_id\")\n",
    "away_data[\"home\"] = False\n",
    "away_data[\"opponent_id\"] = away_data[\"home_id\"]\n",
    "all_data = pd.concat([home_data, away_data], axis=0).drop([\"team_id\", \"home_id\", \"away_id\"], axis=1).dropna(how=\"any\")\n",
    "all_data = all_data.sort_values([\"week\", \"player_id\"])\n",
    "\n",
    "print(all_data.shape)\n",
    "all_data.head()"
   ]
  },
  {
   "cell_type": "markdown",
   "id": "674e1257-c9b1-4f9a-9654-dc95d977a3b0",
   "metadata": {},
   "source": [
    "# All Weeks, One Position\n",
    "* Probably will diverage a bunch because single data point for each player"
   ]
  },
  {
   "cell_type": "code",
   "execution_count": null,
   "id": "10bf4ced-7f01-464a-aa5e-a9634b6a557c",
   "metadata": {},
   "outputs": [],
   "source": [
    "# Subset data\n",
    "pos = \"QB\"\n",
    "data = all_data.loc[all_data[\"position\"] == pos]\n",
    "data = data.loc[data[\"proj_points\"] > 0]\n",
    "\n",
    "# Prepare to model teams\n",
    "teams = sorted(data[\"opponent_id\"].unique())\n",
    "teams_encoder = LabelEncoder().fit(teams)\n",
    "opp_idx = teams_encoder.transform(data[\"opponent_id\"])\n",
    "\n",
    "# Prepare to model home field advantage\n",
    "side = data[\"home\"].values\n",
    "\n",
    "# Prepare to model players\n",
    "players = sorted(data[\"player_id\"].unique())\n",
    "players_encoder = LabelEncoder().fit(players)\n",
    "player_idx = players_encoder.transform(data[\"player_id\"])\n",
    "\n",
    "# Prepare to sum across weeks\n",
    "unique_player_idx = sorted(set(player_idx))\n",
    "player_week_idx = {}\n",
    "for p in unique_player_idx:\n",
    "    player_week_idx[p] = np.argwhere(player_idx == p).ravel()\n",
    "\n",
    "# Prepare to model points\n",
    "scaler = StandardScaler()\n",
    "scaled_points = scaler.fit_transform(data[[\"proj_points\"]]).ravel()\n",
    "# points = data.groupby(\"player_id\")[\"proj_points\"].first()\n",
    "# points.index = players_encoder.transform(points.index)\n",
    "# points = points.sort_index()  # ensure sorted\n",
    "# scaled_points = scaler.fit_transform(points.values.reshape(-1, 1)).ravel()\n",
    "\n",
    "# Build coords\n",
    "coords = {\"team\": teams, \"player_\": players}\n",
    "\n",
    "print(data.shape)\n",
    "data.head()"
   ]
  },
  {
   "cell_type": "code",
   "execution_count": null,
   "id": "aafcd9f3-c9f4-44ad-8fc6-87019b829bd6",
   "metadata": {},
   "outputs": [],
   "source": [
    "# TODO: home field advantage\n",
    "\n",
    "# Build model\n",
    "with pm.Model(coords=coords) as model:\n",
    "    # Global parameters\n",
    "    # home = pm.Normal(\"home\", mu=0, sigma=1)  # TODO\n",
    "    opp_std = pm.HalfNormal(\"opp_std\", sigma=2)\n",
    "    player_std = pm.HalfNormal(\"player_std\", sigma=2)\n",
    "    intercept = pm.Normal(\"intercept\", mu=3, sigma=1)\n",
    "    points_std = pm.HalfNormal(\"points_std\", sigma=2)\n",
    "\n",
    "    # Team-specific parameters\n",
    "    opp_star = pm.Normal(\"opp_star\", mu=0, sigma=opp_std, dims=\"team\")\n",
    "    opp = pm.Deterministic(\"opp\", opp_star - at.mean(opp_star), dims=\"team\")\n",
    "\n",
    "    # Player-specific parameters\n",
    "    player_star = pm.Normal(\"player_star\", mu=0, sigma=player_std, dims=\"player_\")\n",
    "    player = pm.Deterministic(\"player\", player_star - at.mean(player_star), dims=\"player_\")\n",
    "\n",
    "    # Likelihoods\n",
    "    theta = pm.Deterministic(\"theta\", at.exp(intercept + player[player_idx] + opp[opp_idx]))\n",
    "    points = pm.Normal(\"points\", mu=theta, sigma=points_std, observed=scaled_points)\n",
    "\n",
    "display(pm.model_to_graphviz(model))\n",
    "model.point_logps()"
   ]
  },
  {
   "cell_type": "code",
   "execution_count": null,
   "id": "4574b478-b0ca-4dd2-813d-f4df660a8b5b",
   "metadata": {},
   "outputs": [],
   "source": [
    "# Sample model\n",
    "with model:\n",
    "    trace = pm.sample(1000, tune=2000, cores=4)"
   ]
  },
  {
   "cell_type": "code",
   "execution_count": null,
   "id": "117f9448-4b0a-4056-8c5c-955afe75079e",
   "metadata": {},
   "outputs": [],
   "source": [
    "# Check global parameters\n",
    "trace_helper(trace, [\"opp_std\", \"player_std\", \"intercept\", \"points_std\"])"
   ]
  },
  {
   "cell_type": "code",
   "execution_count": null,
   "id": "ca14cfb9-d015-4759-af09-10de29096a64",
   "metadata": {},
   "outputs": [],
   "source": [
    "# Check team-specific parameters\n",
    "trace_helper(trace, [\"opp_star\", \"opp\"])"
   ]
  },
  {
   "cell_type": "code",
   "execution_count": null,
   "id": "49edcdcc-d3c2-4813-aaf7-7ced344ba05b",
   "metadata": {},
   "outputs": [],
   "source": [
    "# Check player-specific parameters\n",
    "trace_helper(trace, [\"player_star\", \"player\"])"
   ]
  },
  {
   "cell_type": "code",
   "execution_count": null,
   "id": "9d8343d5-3bab-4613-aa15-9a6f1a7e6e13",
   "metadata": {},
   "outputs": [],
   "source": [
    "az.plot_pair(trace, var_names=[\"opp_std\", \"player_std\", \"intercept\", \"points_std\"], coords=coords, divergences=True);"
   ]
  },
  {
   "cell_type": "code",
   "execution_count": null,
   "id": "9e47230c-5c1c-4f74-bbc7-f3e7872e7d65",
   "metadata": {},
   "outputs": [],
   "source": []
  }
 ],
 "metadata": {
  "kernelspec": {
   "display_name": "Python 3 (ipykernel)",
   "language": "python",
   "name": "python3"
  },
  "language_info": {
   "codemirror_mode": {
    "name": "ipython",
    "version": 3
   },
   "file_extension": ".py",
   "mimetype": "text/x-python",
   "name": "python",
   "nbconvert_exporter": "python",
   "pygments_lexer": "ipython3",
   "version": "3.9.13"
  }
 },
 "nbformat": 4,
 "nbformat_minor": 5
}
