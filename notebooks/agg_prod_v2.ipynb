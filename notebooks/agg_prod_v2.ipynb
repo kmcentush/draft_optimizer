{
 "cells": [
  {
   "cell_type": "code",
   "execution_count": null,
   "id": "eb020196-e0c1-4954-936d-af745c3aa293",
   "metadata": {},
   "outputs": [],
   "source": [
    "import os\n",
    "from pathlib import Path\n",
    "\n",
    "import numpy as np\n",
    "import pandas as pd\n",
    "\n",
    "from draft_optimizer.src.utils import DATA_DIR\n",
    "\n",
    "# Specify paths\n",
    "league_id = 88497130\n",
    "year = 2022\n",
    "ESPN_DIR = os.path.join(DATA_DIR, f\"espn_{league_id}\", str(year))\n",
    "SLEEPER_DIR = os.path.join(DATA_DIR, \"sleeper\", str(year))\n",
    "PROD_DIR = os.path.join(DATA_DIR, \"production\", str(year))\n",
    "\n",
    "# Specify constants\n",
    "FANTASY_POS = [\"QB\", \"RB\", \"WR\", \"TE\", \"K\", \"D/ST\"]"
   ]
  },
  {
   "cell_type": "code",
   "execution_count": null,
   "id": "0d2efb68-ebaf-4b7a-be94-503495d79187",
   "metadata": {},
   "outputs": [],
   "source": [
    "# Load data\n",
    "espn = pd.read_csv(os.path.join(ESPN_DIR, \"pro_players.csv\"))\n",
    "sleeper_players = pd.read_csv(os.path.join(SLEEPER_DIR, \"players.csv\"), index_col=[0])\n",
    "\n",
    "# Keep active players\n",
    "sleeper_players = sleeper_players.loc[sleeper_players[\"active\"]]\n",
    "\n",
    "# Add ESPN IDs to D/ST\n",
    "espn_def_ids = espn.loc[espn[\"position\"] == \"D/ST\"].set_index(\"name\")[\"id\"]\n",
    "is_def = sleeper_players[\"position\"] == \"D/ST\"\n",
    "sleeper_players.loc[is_def, \"espn_id\"] = sleeper_players.loc[is_def, \"full_name\"].map(espn_def_ids)\n",
    "\n",
    "# Filter and subset\n",
    "player_cols = [\"full_name\", \"position\", \"team\"]\n",
    "players = sleeper_players.loc[sleeper_players[\"position\"].isin(FANTASY_POS), player_cols]\n",
    "\n",
    "# Finalize index\n",
    "players.index.name = \"id\"\n",
    "players.columns = [\"name\", \"position\", \"pro_team\"]\n",
    "\n",
    "print(players.shape)\n",
    "players.head()"
   ]
  },
  {
   "cell_type": "code",
   "execution_count": null,
   "id": "3a23f217-3596-45df-a7f1-f9dc4ff07536",
   "metadata": {},
   "outputs": [],
   "source": [
    "def output_players(players: pd.DataFrame, points_mode: str):\n",
    "    # Load projections\n",
    "    points_mode_str = points_mode.lower().replace(\" \", \"_\")\n",
    "    projs_path = os.path.join(DATA_DIR, \"sleeper\", str(year), f\"projections_{points_mode_str}.csv\")\n",
    "    projs_raw = pd.read_csv(projs_path, index_col=[0])\n",
    "\n",
    "    # Join and add columns\n",
    "    players = players.join(projs_raw, how=\"left\")\n",
    "    players[\"adp\"] = players[\"sum_weeks\"].rank(ascending=False)  # TODO: real ADP?\n",
    "\n",
    "    if not os.path.isdir(PROD_DIR):\n",
    "        Path(PROD_DIR).mkdir(parents=True, exist_ok=True)\n",
    "    players.to_csv(os.path.join(PROD_DIR, f\"players_{points_mode_str}_v2.csv\"), index=True)"
   ]
  },
  {
   "cell_type": "code",
   "execution_count": null,
   "id": "88b44c0a-621d-43a4-992c-475e139ef635",
   "metadata": {},
   "outputs": [],
   "source": [
    "# Output production data\n",
    "output_players(players, \"PPR\")\n",
    "output_players(players, \"Half PPR\")"
   ]
  },
  {
   "cell_type": "code",
   "execution_count": null,
   "id": "dca5b3ca-7916-4d46-b037-c4e0e92a5fa2",
   "metadata": {},
   "outputs": [],
   "source": []
  }
 ],
 "metadata": {
  "kernelspec": {
   "display_name": "Python 3 (ipykernel)",
   "language": "python",
   "name": "python3"
  },
  "language_info": {
   "codemirror_mode": {
    "name": "ipython",
    "version": 3
   },
   "file_extension": ".py",
   "mimetype": "text/x-python",
   "name": "python",
   "nbconvert_exporter": "python",
   "pygments_lexer": "ipython3",
   "version": "3.9.13"
  }
 },
 "nbformat": 4,
 "nbformat_minor": 5
}
