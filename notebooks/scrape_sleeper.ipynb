{
 "cells": [
  {
   "cell_type": "code",
   "execution_count": null,
   "id": "4c76e5ce-f3bd-4d53-bf9b-5f366ceb3bb4",
   "metadata": {},
   "outputs": [],
   "source": [
    "import os\n",
    "\n",
    "import pandas as pd\n",
    "from sleeper_wrapper import League, Players, Stats\n",
    "\n",
    "from draft_optimizer.src.utils import DATA_DIR"
   ]
  },
  {
   "cell_type": "code",
   "execution_count": null,
   "id": "3fb2d75d-5b3e-411e-8b55-70ab0dba4130",
   "metadata": {},
   "outputs": [],
   "source": [
    "# Specify constants\n",
    "LEAGUE_ID = \"837802583950209024\"\n",
    "YEAR = 2022"
   ]
  },
  {
   "cell_type": "markdown",
   "id": "7e9ab573-91cf-4f95-8b04-f167673ac8e2",
   "metadata": {},
   "source": [
    "# Get Players"
   ]
  },
  {
   "cell_type": "code",
   "execution_count": null,
   "id": "cd8b0be8-f5d3-4280-b010-2f8f4aceea0d",
   "metadata": {},
   "outputs": [],
   "source": [
    "# Get players\n",
    "players_raw = Players().get_all_players()\n",
    "players_df = pd.DataFrame.from_dict(players_raw).T"
   ]
  },
  {
   "cell_type": "code",
   "execution_count": null,
   "id": "bfc0f037-8be5-4c68-a3cc-11d44325ba94",
   "metadata": {},
   "outputs": [],
   "source": [
    "# Subset and rename columns\n",
    "info_cols = [\"full_name\", \"active\", \"team\"]\n",
    "pos_cols = [\"position\", \"fantasy_positions\"]\n",
    "id_cols = [c for c in players_df.columns if \"id\" in c]\n",
    "keep_cols = info_cols + pos_cols + id_cols\n",
    "players = players_df[keep_cols].rename({\"player_id\": \"sleeper_id\"}, axis=1).set_index(\"sleeper_id\")\n",
    "\n",
    "# Fix defenses\n",
    "is_def = players[\"position\"] == \"DEF\"\n",
    "players.loc[is_def, \"position\"] = \"D/ST\"\n",
    "players.loc[is_def, \"fantasy_positions\"] = \"[D/ST]\"\n",
    "players.loc[is_def, \"full_name\"] = players_df.loc[is_def, \"last_name\"] + \" D/ST\"\n",
    "# TODO: other league IDs?\n",
    "\n",
    "print(players.shape)\n",
    "players.head()"
   ]
  },
  {
   "cell_type": "code",
   "execution_count": null,
   "id": "61773718-764d-464a-b9ef-dacd063903ec",
   "metadata": {},
   "outputs": [],
   "source": [
    "# Output\n",
    "out_dir = os.path.join(DATA_DIR, \"sleeper\", str(YEAR))\n",
    "if not os.path.isdir(out_dir):\n",
    "    Path(out_dir).mkdir(parents=True, exist_ok=True)\n",
    "players.to_csv(os.path.join(out_dir, \"players.csv\"), index=True)"
   ]
  },
  {
   "cell_type": "markdown",
   "id": "1fce4170-94da-4ef5-8d2f-1002023a8993",
   "metadata": {},
   "source": [
    "# Get Projections"
   ]
  },
  {
   "cell_type": "code",
   "execution_count": null,
   "id": "f1235aea-778d-4bea-a033-b9b95cd2f6f6",
   "metadata": {},
   "outputs": [],
   "source": [
    "# Get regular season projections\n",
    "weeks = list(range(1, 18 + 1))  # 1-18\n",
    "week_proj_dfs = []\n",
    "for week in weeks:\n",
    "    # Get data\n",
    "    week_proj_raw = Stats().get_week_projections(\"regular\", YEAR, week)\n",
    "    week_proj_df = pd.DataFrame.from_dict(week_proj_raw).T\n",
    "    week_proj_df.index.name = \"sleeper_id\"\n",
    "\n",
    "    # Append\n",
    "    week_proj_dfs.append(week_proj_df)"
   ]
  },
  {
   "cell_type": "code",
   "execution_count": null,
   "id": "baebb8dc-9845-4b2b-a348-4abac05a0ed8",
   "metadata": {},
   "outputs": [],
   "source": [
    "# Aggregate projections\n",
    "pts_cols = [\"pts_std\", \"pts_ppr\", \"pts_half_ppr\"]\n",
    "proj_dfs = []\n",
    "for i, week_proj_df in enumerate(week_proj_dfs):\n",
    "    # Subset\n",
    "    week = i + 1\n",
    "    week_proj_df = week_proj_df[pts_cols].copy()\n",
    "    week_proj_df.columns = pd.MultiIndex.from_product([[f\"week{week}\"], week_proj_df.columns])\n",
    "\n",
    "    # Append\n",
    "    proj_dfs.append(week_proj_df)"
   ]
  },
  {
   "cell_type": "code",
   "execution_count": null,
   "id": "6cd19423-f966-4f82-ae0d-1da58b6b61b5",
   "metadata": {},
   "outputs": [],
   "source": [
    "# Concat projections\n",
    "projs = pd.concat(proj_dfs, axis=1)\n",
    "\n",
    "# Export point projections\n",
    "for pts_col in pts_cols:\n",
    "    # Prepare data\n",
    "    projs_pts = projs.loc[:, projs.columns.get_level_values(1) == pts_col].copy()\n",
    "    projs_pts.columns = projs_pts.columns.get_level_values(0)\n",
    "    projs_pts[\"sum_weeks\"] = projs_pts.sum(axis=1)\n",
    "\n",
    "    # Output\n",
    "    out_dir = os.path.join(DATA_DIR, \"sleeper\", str(YEAR))\n",
    "    if not os.path.isdir(out_dir):\n",
    "        Path(out_dir).mkdir(parents=True, exist_ok=True)\n",
    "    projs_pts.to_csv(os.path.join(out_dir, f\"projections_{pts_col.replace('pts_', '')}.csv\"), index=True)"
   ]
  },
  {
   "cell_type": "markdown",
   "id": "a7301ef3-0cfe-4655-9f8b-2d1efacb5a62",
   "metadata": {},
   "source": [
    "# Misc."
   ]
  },
  {
   "cell_type": "code",
   "execution_count": null,
   "id": "0e0fe876-b238-481c-a4cd-17e5493dcdd8",
   "metadata": {},
   "outputs": [],
   "source": [
    "# Get league\n",
    "league = League(LEAGUE_ID)"
   ]
  },
  {
   "cell_type": "code",
   "execution_count": null,
   "id": "697b7e1f-4205-4029-951f-7784ab9902ef",
   "metadata": {},
   "outputs": [],
   "source": [
    "# Get users\n",
    "users = league.get_users()\n",
    "\n",
    "# View users\n",
    "for user in users:\n",
    "    print(user[\"display_name\"], user[\"user_id\"])"
   ]
  },
  {
   "cell_type": "code",
   "execution_count": null,
   "id": "2a796ac5-c03c-4b10-b111-81db34a6aae1",
   "metadata": {},
   "outputs": [],
   "source": [
    "# Get draft\n",
    "league.get_league()"
   ]
  }
 ],
 "metadata": {
  "kernelspec": {
   "display_name": "Python 3 (ipykernel)",
   "language": "python",
   "name": "python3"
  },
  "language_info": {
   "codemirror_mode": {
    "name": "ipython",
    "version": 3
   },
   "file_extension": ".py",
   "mimetype": "text/x-python",
   "name": "python",
   "nbconvert_exporter": "python",
   "pygments_lexer": "ipython3",
   "version": "3.9.13"
  }
 },
 "nbformat": 4,
 "nbformat_minor": 5
}
