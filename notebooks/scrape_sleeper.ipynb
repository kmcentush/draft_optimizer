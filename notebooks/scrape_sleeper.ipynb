{
 "cells": [
  {
   "cell_type": "code",
   "execution_count": null,
   "id": "4c76e5ce-f3bd-4d53-bf9b-5f366ceb3bb4",
   "metadata": {},
   "outputs": [],
   "source": [
    "import os\n",
    "from pathlib import Path\n",
    "\n",
    "import pandas as pd\n",
    "import requests\n",
    "from sleeper_wrapper import Players\n",
    "\n",
    "from draft_optimizer.src.utils import DATA_DIR"
   ]
  },
  {
   "cell_type": "markdown",
   "id": "7e9ab573-91cf-4f95-8b04-f167673ac8e2",
   "metadata": {},
   "source": [
    "# Get Players"
   ]
  },
  {
   "cell_type": "code",
   "execution_count": null,
   "id": "cd8b0be8-f5d3-4280-b010-2f8f4aceea0d",
   "metadata": {},
   "outputs": [],
   "source": [
    "# Get players\n",
    "players_raw = Players().get_all_players()\n",
    "players_df = pd.DataFrame.from_dict(players_raw).T"
   ]
  },
  {
   "cell_type": "code",
   "execution_count": null,
   "id": "bfc0f037-8be5-4c68-a3cc-11d44325ba94",
   "metadata": {},
   "outputs": [],
   "source": [
    "# Subset and rename columns\n",
    "info_cols = [\"full_name\", \"active\", \"team\"]\n",
    "pos_cols = [\"position\", \"fantasy_positions\"]\n",
    "id_cols = [c for c in players_df.columns if \"id\" in c]\n",
    "keep_cols = info_cols + pos_cols + id_cols\n",
    "players = players_df[keep_cols].rename({\"player_id\": \"sleeper_id\"}, axis=1).set_index(\"sleeper_id\")\n",
    "\n",
    "# Fix defenses\n",
    "is_def = players[\"position\"] == \"DEF\"\n",
    "players.loc[is_def, \"position\"] = \"D/ST\"\n",
    "players.loc[is_def, \"fantasy_positions\"] = \"[D/ST]\"\n",
    "players.loc[is_def, \"full_name\"] = players_df.loc[is_def, \"last_name\"] + \" D/ST\"\n",
    "# TODO: other league IDs?\n",
    "\n",
    "print(players.shape)\n",
    "players.head()"
   ]
  },
  {
   "cell_type": "code",
   "execution_count": null,
   "id": "61773718-764d-464a-b9ef-dacd063903ec",
   "metadata": {},
   "outputs": [],
   "source": [
    "# Output\n",
    "out_dir = os.path.join(DATA_DIR, \"sleeper\")\n",
    "if not os.path.isdir(out_dir):\n",
    "    Path(out_dir).mkdir(parents=True, exist_ok=True)\n",
    "players.to_csv(os.path.join(out_dir, \"players.csv\"), index=True)"
   ]
  },
  {
   "cell_type": "markdown",
   "id": "94213b31-45d4-49c3-91ad-25f9d3459b71",
   "metadata": {},
   "source": [
    "# Get Data"
   ]
  },
  {
   "cell_type": "code",
   "execution_count": null,
   "id": "125cef4a-b061-4856-b209-ae1224c367bb",
   "metadata": {},
   "outputs": [],
   "source": [
    "# Specify URL\n",
    "weekly_url = \"https://api.sleeper.com/{mode}/nfl/{year}/{week}?season_type=regular&position[]=DEF&position[]=K&position[]=QB&position[]=RB&position[]=TE&position[]=WR\""
   ]
  },
  {
   "cell_type": "code",
   "execution_count": null,
   "id": "39e109ec-889d-426e-bd94-774646002c67",
   "metadata": {},
   "outputs": [],
   "source": [
    "def get_weekly_data(mode: str, year: int):\n",
    "    # Loop over weeks\n",
    "    weeks = list(range(1, 18 + 1))  # 1-18\n",
    "    dfs = []\n",
    "    for week in weeks:\n",
    "        # Get weekly data\n",
    "        raw = requests.get(weekly_url.format(mode=mode, year=year, week=week)).json()\n",
    "        raw = [\n",
    "            {\"player_id\": v[\"player_id\"], \"week\": v[\"week\"], \"opponent\": v[\"opponent\"], **v[\"stats\"]}\n",
    "            for v in raw\n",
    "            if v[\"game_id\"] is not None\n",
    "        ]\n",
    "        if len(raw) == 0:\n",
    "            continue\n",
    "        df = pd.DataFrame(raw).set_index(\"player_id\")\n",
    "        df.index.name = \"sleeper_id\"\n",
    "\n",
    "        # Append\n",
    "        dfs.append(df)\n",
    "\n",
    "    if len(dfs) > 0:\n",
    "        # Concat projections\n",
    "        out = pd.concat(dfs, axis=0)\n",
    "\n",
    "        # Output\n",
    "        out_dir = os.path.join(DATA_DIR, \"sleeper\", str(year))\n",
    "        if not os.path.isdir(out_dir):\n",
    "            Path(out_dir).mkdir(parents=True, exist_ok=True)\n",
    "        out.to_csv(os.path.join(out_dir, f\"{mode}.csv\"), index=True)"
   ]
  },
  {
   "cell_type": "code",
   "execution_count": null,
   "id": "aea5b43b-0ac7-4725-92e4-26503aca0b49",
   "metadata": {},
   "outputs": [],
   "source": [
    "# Loop over years\n",
    "years = [2015, 2016, 2017, 2018, 2019, 2020, 2021, 2022]\n",
    "for year in years:\n",
    "    get_weekly_data(\"stats\", year)\n",
    "    get_weekly_data(\"projections\", year)"
   ]
  },
  {
   "cell_type": "code",
   "execution_count": null,
   "id": "c864fbf1-c8d7-4724-8523-180746465206",
   "metadata": {},
   "outputs": [],
   "source": []
  }
 ],
 "metadata": {
  "kernelspec": {
   "display_name": "Python 3 (ipykernel)",
   "language": "python",
   "name": "python3"
  },
  "language_info": {
   "codemirror_mode": {
    "name": "ipython",
    "version": 3
   },
   "file_extension": ".py",
   "mimetype": "text/x-python",
   "name": "python",
   "nbconvert_exporter": "python",
   "pygments_lexer": "ipython3",
   "version": "3.9.13"
  }
 },
 "nbformat": 4,
 "nbformat_minor": 5
}
