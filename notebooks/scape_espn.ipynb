{
 "cells": [
  {
   "cell_type": "code",
   "execution_count": 2,
   "id": "07aee950-b5f9-43f8-a979-4af173738f4d",
   "metadata": {},
   "outputs": [],
   "source": [
    "import os\n",
    "from pathlib import Path\n",
    "\n",
    "import pandas as pd\n",
    "\n",
    "from draft_optimizer.src.platform.espn import League\n",
    "from draft_optimizer.src.utils import DATA_DIR"
   ]
  },
  {
   "cell_type": "code",
   "execution_count": 3,
   "id": "ba0997bb-25d5-4675-b612-d148bc4ab451",
   "metadata": {},
   "outputs": [],
   "source": [
    "# Specify info\n",
    "league_id = 88497130\n",
    "years = [2019, 2020, 2021, 2022]"
   ]
  },
  {
   "cell_type": "code",
   "execution_count": 4,
   "id": "665069c1-26c5-468c-8e29-d973d54f17dd",
   "metadata": {},
   "outputs": [],
   "source": [
    "# Loop over years\n",
    "for year in years:\n",
    "    # Get league\n",
    "    league = League(id=league_id, year=year)\n",
    "\n",
    "    # Get pro teams and schedule\n",
    "    pro_teams, pro_schedule = league.get_pro_schedule()\n",
    "\n",
    "    # Get players\n",
    "    # max_players = 25\n",
    "    max_players = None\n",
    "    players = league.get_players(max_players=max_players)\n",
    "\n",
    "    # Convert to df\n",
    "    pro_teams_df = (\n",
    "        pd.DataFrame.from_dict([v.dict() for v in pro_teams.values()]).sort_values(\"id\").reset_index(drop=True)\n",
    "    )\n",
    "    pro_schedule_df = (\n",
    "        pd.DataFrame.from_dict([v2.dict() for v1 in pro_schedule.values() for v2 in v1])\n",
    "        .sort_values([\"week\", \"date\", \"home_id\", \"away_id\"])\n",
    "        .reset_index(drop=True)\n",
    "    )\n",
    "    players_df = pd.DataFrame.from_dict([v.dict() for v in players.values()]).sort_values(\"id\").reset_index(drop=True)\n",
    "\n",
    "    # Export data\n",
    "    league_dir = os.path.join(DATA_DIR, f\"espn_{league_id}\", str(year))\n",
    "    if not os.path.isdir(league_dir):\n",
    "        Path(league_dir).mkdir(parents=True, exist_ok=True)\n",
    "    pro_teams_df.to_csv(os.path.join(league_dir, \"pro_teams.csv\"), index=False)\n",
    "    pro_schedule_df.to_csv(os.path.join(league_dir, \"pro_schedule.csv\"), index=False)\n",
    "    players_df.to_csv(os.path.join(league_dir, \"pro_players.csv\"), index=False)"
   ]
  },
  {
   "cell_type": "code",
   "execution_count": null,
   "id": "ce4f34eb-8e39-476d-bee5-fb16fba7ccaf",
   "metadata": {},
   "outputs": [],
   "source": []
  }
 ],
 "metadata": {
  "kernelspec": {
   "display_name": "Python 3 (ipykernel)",
   "language": "python",
   "name": "python3"
  },
  "language_info": {
   "codemirror_mode": {
    "name": "ipython",
    "version": 3
   },
   "file_extension": ".py",
   "mimetype": "text/x-python",
   "name": "python",
   "nbconvert_exporter": "python",
   "pygments_lexer": "ipython3",
   "version": "3.9.13"
  }
 },
 "nbformat": 4,
 "nbformat_minor": 5
}
