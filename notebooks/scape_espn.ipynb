{
 "cells": [
  {
   "cell_type": "code",
   "execution_count": null,
   "id": "07aee950-b5f9-43f8-a979-4af173738f4d",
   "metadata": {},
   "outputs": [],
   "source": [
    "import os\n",
    "import pandas as pd\n",
    "\n",
    "from draft_optimizer.src.platform.espn import League\n",
    "from draft_optimizer.src.utils import DATA_DIR"
   ]
  },
  {
   "cell_type": "code",
   "execution_count": null,
   "id": "665069c1-26c5-468c-8e29-d973d54f17dd",
   "metadata": {},
   "outputs": [],
   "source": [
    "# Get league\n",
    "league_id = 88497130\n",
    "year = 2022\n",
    "league = League(id=league_id, year=year)"
   ]
  },
  {
   "cell_type": "code",
   "execution_count": null,
   "id": "b9652c12-61ac-4e8c-ac69-8f2bf09fa38c",
   "metadata": {},
   "outputs": [],
   "source": [
    "# Get pro teams and schedule\n",
    "pro_teams, pro_schedule = league.get_pro_schedule()\n",
    "\n",
    "# Convert to df\n",
    "pro_teams_df = pd.DataFrame.from_dict([v.dict() for v in pro_teams.values()]).sort_values(\"id\").reset_index(drop=True)\n",
    "pro_schedule_df = pd.DataFrame.from_dict([v2.dict() for v1 in pro_schedule.values() for v2 in v1]).sort_values([\"week\", \"date\", \"home_id\", \"away_id\"]).reset_index(drop=True)"
   ]
  },
  {
   "cell_type": "code",
   "execution_count": null,
   "id": "079d41ed-1e4e-4b47-a95d-f7194eb9e8e5",
   "metadata": {},
   "outputs": [],
   "source": [
    "# Get players\n",
    "# max_players = 25\n",
    "max_players = None\n",
    "players = league.get_players(max_players=max_players)\n",
    "\n",
    "# Convert to df\n",
    "players_df = pd.DataFrame.from_dict([v.dict() for v in players.values()]).sort_values(\"id\").reset_index(drop=True)"
   ]
  },
  {
   "cell_type": "code",
   "execution_count": null,
   "id": "32d1cee2-fc36-4f04-96b4-e88749b4abf5",
   "metadata": {},
   "outputs": [],
   "source": [
    "# Export data\n",
    "league_dir = os.path.join(DATA_DIR, f\"espn_{league_id}_{year}\")\n",
    "if not os.path.isdir(league_dir):\n",
    "    os.mkdir(league_dir)\n",
    "pro_teams_df.to_csv(os.path.join(league_dir, \"pro_teams.csv\"), index=False)\n",
    "pro_schedule_df.to_csv(os.path.join(league_dir, \"pro_schedule.csv\"), index=False)\n",
    "players_df.to_csv(os.path.join(league_dir, \"pro_players.csv\"), index=False)"
   ]
  },
  {
   "cell_type": "code",
   "execution_count": null,
   "id": "ce4f34eb-8e39-476d-bee5-fb16fba7ccaf",
   "metadata": {},
   "outputs": [],
   "source": []
  }
 ],
 "metadata": {
  "kernelspec": {
   "display_name": "Python 3 (ipykernel)",
   "language": "python",
   "name": "python3"
  },
  "language_info": {
   "codemirror_mode": {
    "name": "ipython",
    "version": 3
   },
   "file_extension": ".py",
   "mimetype": "text/x-python",
   "name": "python",
   "nbconvert_exporter": "python",
   "pygments_lexer": "ipython3",
   "version": "3.9.13"
  }
 },
 "nbformat": 4,
 "nbformat_minor": 5
}
